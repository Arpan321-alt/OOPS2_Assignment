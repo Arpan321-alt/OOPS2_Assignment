{
 "cells": [
  {
   "cell_type": "markdown",
   "id": "2b8f90ab-e271-4665-a897-3c1b72a876c0",
   "metadata": {},
   "source": [
    "Constructor:\n",
    "1. What is a constructor in Python? Explain its purpose and usage.\n",
    "2. Differentiate between a parameterless constructor and a parameterized constructor in Python.\n",
    "3. How do you define a constructor in a Python class? Provide an example.\n",
    "4. Explain the `__init__` method in Python and its role in constructors.\n",
    "5. In a class named `Person`, create a constructor that initializes the `name` and `age` attributes. Provide an\n",
    "example of creating an object of this class.\n",
    "6. How can you call a constructor explicitly in Python? Give an example.\n",
    "7. What is the significance of the `self` parameter in Python constructors? Explain with an example.\n",
    "8. Discuss the concept of default constructors in Python. When are they used?\n",
    "9. Create a Python class called `Rectangle` with a constructor that initializes the `width` and `height`\n",
    "attributes. Provide a method to calculate the area of the rectangle.\n",
    "10. How can you have multiple constructors in a Python class? Explain with an example.\n",
    "11. What is method overloading, and how is it related to constructors in Python?\n",
    "12. Explain the use of the `super()` function in Python constructors. Provide an example.\n",
    "13. Create a class called `Book` with a constructor that initializes the `title`, `author`, and `published_year`\n",
    "attributes. Provide a method to display book details.\n",
    "14. Discuss the differences between constructors and regular methods in Python classes.\n",
    "15. Explain the role of the `self` parameter in instance variable initialization within a constructor.\n",
    "16. How do you prevent a class from having multiple instances by using constructors in Python? Provide an\n",
    "example.\n",
    "17. Create a Python class called `Student` with a constructor that takes a list of subjects as a parameter and\n",
    "initializes the `subjects` attribute.\n",
    "18. What is the purpose of the `__del__` method in Python classes, and how does it relate to constructors?\n",
    "19. Explain the use of constructor chaining in Python. Provide a practical example.\n",
    "20. Create a Python class called `Car` with a default constructor that initializes the `make` and `model`\n",
    "attributes. Provide a method to display car information."
   ]
  },
  {
   "cell_type": "code",
   "execution_count": 1,
   "id": "f4e0a080-f9ed-4a05-b088-cc61becaad37",
   "metadata": {},
   "outputs": [
    {
     "data": {
      "text/plain": [
       "\"Constructor:- constructor is used for initilazation of object. when we don't create constructor then python automatically creates default \\nconstructor of class. there are two types of consturctor parametrize and non parametrize constructor. With the help of constructor we pass argumentsand\\ninside constructor we define variables. Its a global variables we can use anyweher in the class.\""
      ]
     },
     "execution_count": 1,
     "metadata": {},
     "output_type": "execute_result"
    }
   ],
   "source": [
    "'''Constructor:- constructor is used for initilazation of object. when we don't create constructor then python automatically creates default \n",
    "constructor of class. there are two types of consturctor parametrize and non parametrize constructor. With the help of constructor we pass argumentsand\n",
    "inside constructor we define variables. Its a global variables we can use anyweher in the class.'''"
   ]
  },
  {
   "cell_type": "code",
   "execution_count": 2,
   "id": "fad65710-5105-4255-b443-7ae0df07dc36",
   "metadata": {},
   "outputs": [
    {
     "data": {
      "text/plain": [
       "'parameterless means non parametrize constructor are those constructor which have no arguments and parametrize constructor have arguments'"
      ]
     },
     "execution_count": 2,
     "metadata": {},
     "output_type": "execute_result"
    }
   ],
   "source": [
    "'''parameterless means non parametrize constructor are those constructor which have no arguments and parametrize constructor have arguments'''"
   ]
  },
  {
   "cell_type": "code",
   "execution_count": 3,
   "id": "59d279b5-e7fe-4de4-81f0-4b9e7a851b9d",
   "metadata": {},
   "outputs": [
    {
     "name": "stdout",
     "output_type": "stream",
     "text": [
      "2\n",
      "3\n"
     ]
    }
   ],
   "source": [
    "#3.I am defining below examples of constructor\n",
    "class A:\n",
    "    def __init__(self):\n",
    "        pass\n",
    "a=A()\n",
    "\n",
    "class B:\n",
    "    def __init__(self,a,b):\n",
    "        self.a=a\n",
    "        self.b=b\n",
    "    def show(self):\n",
    "        print(self.a)\n",
    "        print(self.b)\n",
    "b=B(2,3)\n",
    "b.show()"
   ]
  },
  {
   "cell_type": "code",
   "execution_count": 4,
   "id": "ee506573-99b1-4642-9953-699484c8326f",
   "metadata": {},
   "outputs": [
    {
     "data": {
      "text/plain": [
       "' __init__ is special or dunder or magic function in python . this types of functions specially called by python according to the\\nsituation. Withe the help of __init__ dunder method we can create a constructor and its used for initilisaion of object.'"
      ]
     },
     "execution_count": 4,
     "metadata": {},
     "output_type": "execute_result"
    }
   ],
   "source": [
    "#4.\n",
    "''' __init__ is special or dunder or magic function in python . this types of functions specially called by python according to the\n",
    "situation. Withe the help of __init__ dunder method we can create a constructor and its used for initilisaion of object.'''"
   ]
  },
  {
   "cell_type": "code",
   "execution_count": 5,
   "id": "c841fa09-9dbb-4675-9d33-6a926e244bed",
   "metadata": {},
   "outputs": [
    {
     "name": "stdout",
     "output_type": "stream",
     "text": [
      "arpan\n"
     ]
    },
    {
     "data": {
      "text/plain": [
       "23"
      ]
     },
     "execution_count": 5,
     "metadata": {},
     "output_type": "execute_result"
    }
   ],
   "source": [
    "#5.\n",
    "class Person:\n",
    "    def __init__(self,name,age):\n",
    "        self.name=name\n",
    "        self.age=age\n",
    "p=Person('arpan',23)\n",
    "print(p.name)\n",
    "p.age"
   ]
  },
  {
   "cell_type": "code",
   "execution_count": 6,
   "id": "463206b9-122d-4512-b506-ad9904239810",
   "metadata": {},
   "outputs": [
    {
     "data": {
      "text/plain": [
       "25"
      ]
     },
     "execution_count": 6,
     "metadata": {},
     "output_type": "execute_result"
    }
   ],
   "source": [
    "#6.\n",
    "class Arpan(Person):\n",
    "    def __init__(self,name,age):\n",
    "        super().__init__(name,age)\n",
    "a=Arpan('vikas',25)\n",
    "a.age"
   ]
  },
  {
   "cell_type": "code",
   "execution_count": 7,
   "id": "b1b22bcb-3b92-4864-8cae-6d348a8520a7",
   "metadata": {},
   "outputs": [
    {
     "name": "stdout",
     "output_type": "stream",
     "text": [
      "thar mercedez\n"
     ]
    }
   ],
   "source": [
    "#7.\n",
    "''' self is used in python. because its the instance of the class.its represent current properties of object'''\n",
    "class Car:\n",
    "    def __init__(self,name,color):\n",
    "        self.name=name\n",
    "        self.color=color\n",
    "c=Car('thar','black')\n",
    "c1=Car('mercedez','white')\n",
    "print(c.name,c1.name)\n",
    "#so int the above code there are two instance of the class c and c1 and self representing its current properties of the object c object has different naem and c1 as different."
   ]
  },
  {
   "cell_type": "code",
   "execution_count": 8,
   "id": "e85ea9ff-9546-48d2-ab7b-3ca4d34a0852",
   "metadata": {},
   "outputs": [
    {
     "data": {
      "text/plain": [
       "4"
      ]
     },
     "execution_count": 8,
     "metadata": {},
     "output_type": "execute_result"
    }
   ],
   "source": [
    "#8.\n",
    "'''Whenever we create a object .python bydefault creates a default constructor. its used for declaring variables'''\n",
    "class Car:\n",
    "    wheels=4\n",
    "    \n",
    "c=Car()\n",
    "c.wheels\n",
    "class Car:\n",
    "    def __init__(self):\n",
    "        self.wheels=4\n",
    "c1=Car()\n",
    "c1.wheels\n",
    "#int the first example python bydefault creates a constructor."
   ]
  },
  {
   "cell_type": "code",
   "execution_count": 9,
   "id": "443fd892-e351-4360-968f-c08b5cd93e17",
   "metadata": {},
   "outputs": [
    {
     "name": "stdout",
     "output_type": "stream",
     "text": [
      "Area of the rectange is  6\n"
     ]
    }
   ],
   "source": [
    "#9.#area of the rectangle\n",
    "class Rectangle:\n",
    "    def __init__(self,width,height):\n",
    "        self.width=width\n",
    "        self.height=height\n",
    "    def area(self):\n",
    "        print('Area of the rectange is ', self.width*self.height)\n",
    "r=Rectangle(2,3)\n",
    "r.area()"
   ]
  },
  {
   "cell_type": "code",
   "execution_count": 10,
   "id": "9770a44f-0c94-4f89-a06d-b102698b3f98",
   "metadata": {},
   "outputs": [
    {
     "data": {
      "text/plain": [
       "'5.exploring multiple constructor in existing python class'"
      ]
     },
     "execution_count": 10,
     "metadata": {},
     "output_type": "execute_result"
    }
   ],
   "source": [
    "#10.\n",
    "'''1.instantiating class in python'''\n",
    "'''2.defining multiple class constructor'''\n",
    "'''3.simulating multiple constructor in your class'''\n",
    "'''4.providing multiple constructor with @classmethod in python'''\n",
    "'''5.exploring multiple constructor in existing python class'''\n"
   ]
  },
  {
   "cell_type": "code",
   "execution_count": 11,
   "id": "97b2166c-76c5-435a-b26a-208d921ab149",
   "metadata": {},
   "outputs": [
    {
     "data": {
      "text/plain": [
       "'method overloading have same methods name with different parameters is called method overloading similarly we have constructor overloading\\nin the constructor overloading have different parameters . so its the relation between method overloading and constructor overloading'"
      ]
     },
     "execution_count": 11,
     "metadata": {},
     "output_type": "execute_result"
    }
   ],
   "source": [
    "#11.\n",
    "'''method overloading have same methods name with different parameters is called method overloading similarly we have constructor overloading\n",
    "in the constructor overloading have different parameters . so its the relation between method overloading and constructor overloading'''"
   ]
  },
  {
   "cell_type": "code",
   "execution_count": 12,
   "id": "7bb7d5b4-5039-4826-81e2-406fdb74a59b",
   "metadata": {},
   "outputs": [
    {
     "name": "stdout",
     "output_type": "stream",
     "text": [
      "my name is  banana\n",
      "my name is papyaya\n"
     ]
    }
   ],
   "source": [
    "#12.\n",
    "'''super() is used for access the attributes and behaviours of its parent class'''\n",
    "''' with the help of super we can access constructors'''\n",
    "'''with the help of super we can access variables and functions of parent class inside child class'''\n",
    "class A:\n",
    "    def __init__(self):\n",
    "        self.a='banana'\n",
    "        self.c='papaya'\n",
    "    def show(self):\n",
    "        print('my name is  banana')\n",
    "        print('my name is papyaya')\n",
    "class B(A):\n",
    "    def k(self):\n",
    "        super().show()\n",
    "a=A()\n",
    "b=B()\n",
    "b.k()"
   ]
  },
  {
   "cell_type": "code",
   "execution_count": 13,
   "id": "afe3cd4d-41f3-43d3-8e8c-de9b8922d8e2",
   "metadata": {},
   "outputs": [
    {
     "name": "stdout",
     "output_type": "stream",
     "text": [
      "title of the book is dsa   author of the book is  charlis king book is published on 2003\n"
     ]
    }
   ],
   "source": [
    "#13.13. Create a class called `Book` with a constructor that initializes the `title`, `author`, and `published_year`\n",
    "#attributes. Provide a method to display book details.\n",
    "class Book:\n",
    "    def __init__(self,title,author,published_year):\n",
    "        self.title=title\n",
    "        self.author=author\n",
    "        self.published_year=published_year\n",
    "    def detailsBook(self):\n",
    "        print('title of the book is',self.title,' ','author of the book is ', self.author,'book is published on',self.published_year)\n",
    "b=Book('dsa','charlis king',2003)\n",
    "b.detailsBook()"
   ]
  },
  {
   "cell_type": "code",
   "execution_count": 14,
   "id": "3802526f-e31d-478a-b19b-04ad6ed289fc",
   "metadata": {},
   "outputs": [
    {
     "data": {
      "text/plain": [
       "'python creates bydefault constructors but its doesnot creates bydefault methods'"
      ]
     },
     "execution_count": 14,
     "metadata": {},
     "output_type": "execute_result"
    }
   ],
   "source": [
    "#14.4. Discuss the differences between constructors and regular methods in Python classes.\n",
    "'''constructors are used for initization objects and regular methods are the behavious of the class'''\n",
    "'''constructors in python is start from __init__ and regular methods start from def'''\n",
    "'''python creates bydefault constructors but its doesnot creates bydefault methods'''\n"
   ]
  },
  {
   "cell_type": "code",
   "execution_count": 15,
   "id": "f28586ae-7146-4fc1-9806-d3949e94ca5f",
   "metadata": {},
   "outputs": [
    {
     "data": {
      "text/plain": [
       "'Self represent current instance of the class means if we creates object a then its represent a current objects behaviour and attributes\\n'"
      ]
     },
     "execution_count": 15,
     "metadata": {},
     "output_type": "execute_result"
    }
   ],
   "source": [
    "#15.. Explain the role of the `self` parameter in instance variable initialization within a constructor.\n",
    "'''Self represent current instance of the class means if we creates object a then its represent a current objects behaviour and attributes\n",
    "'''"
   ]
  },
  {
   "cell_type": "code",
   "execution_count": 16,
   "id": "be2392c7-edce-4b52-b5f0-32f9bdf980d4",
   "metadata": {},
   "outputs": [
    {
     "data": {
      "text/plain": [
       "'constructors cannot inherited and we only inherits memeber function and member varibales of the class'"
      ]
     },
     "execution_count": 16,
     "metadata": {},
     "output_type": "execute_result"
    }
   ],
   "source": [
    "#16.How do you prevent a class from having multiple instances by using constructors in Python? Provide an example.\n",
    "'''constructors cannot inherited and we only inherits memeber function and member varibales of the class'''\n"
   ]
  },
  {
   "cell_type": "code",
   "execution_count": 17,
   "id": "3da4fe7b-d891-4392-ada1-5212550a3aa1",
   "metadata": {},
   "outputs": [
    {
     "data": {
      "text/plain": [
       "['dsa', 'oops', 'sql', 'networking', 'compiler design']"
      ]
     },
     "execution_count": 17,
     "metadata": {},
     "output_type": "execute_result"
    }
   ],
   "source": [
    "#17.17. Create a Python class called `Student` with a constructor that takes a list of subjects as a parameter and\n",
    "#initializes the `subjects` attribute.\n",
    "class Student:\n",
    "    def __init__(self,subjects):\n",
    "        self.subjects=subjects\n",
    "s=Student(['dsa','oops','sql','networking','compiler design'])\n",
    "s.subjects"
   ]
  },
  {
   "cell_type": "code",
   "execution_count": 18,
   "id": "2b416d8c-253e-400d-83f5-e349400cf829",
   "metadata": {},
   "outputs": [
    {
     "data": {
      "text/plain": [
       "'18. What is the purpose of the `__del__` method in Python classes, and how does it relate to constructors?\\n19. Explain the use of constructor chaining in Python. Provide a practical example.\\n20. Create a Python class called `Car` with a default constructor that initializes the `make` and `model`\\nattributes. Provide a method to display car information.'"
      ]
     },
     "execution_count": 18,
     "metadata": {},
     "output_type": "execute_result"
    }
   ],
   "source": [
    "'''18. What is the purpose of the `__del__` method in Python classes, and how does it relate to constructors?\n",
    "19. Explain the use of constructor chaining in Python. Provide a practical example.\n",
    "20. Create a Python class called `Car` with a default constructor that initializes the `make` and `model`\n",
    "attributes. Provide a method to display car information.'''"
   ]
  },
  {
   "cell_type": "code",
   "execution_count": 19,
   "id": "edfb51fd-7e7a-4cb2-872f-a6979e4dbbdf",
   "metadata": {},
   "outputs": [
    {
     "name": "stdout",
     "output_type": "stream",
     "text": [
      "a is called\n",
      "delete was called\n"
     ]
    }
   ],
   "source": [
    "#18. __del__ is used for destroy the objects when its not referencing anything\n",
    "#when object referenced is gone then python calls __del__ for destroying the ojbect\n",
    "class A:\n",
    "    def a(self):\n",
    "        print('a is called')\n",
    "    def __del__(self):\n",
    "        print('delete was called')\n",
    "a=A()\n",
    "a.a()\n",
    "del a"
   ]
  },
  {
   "cell_type": "code",
   "execution_count": 20,
   "id": "5a5c7589-09d2-487c-b5fb-f6290bb62415",
   "metadata": {},
   "outputs": [
    {
     "name": "stdout",
     "output_type": "stream",
     "text": [
      "car name is  thar\n",
      "car speed is  280\n",
      "car color is black\n"
     ]
    }
   ],
   "source": [
    "#19.\n",
    "'''Constructor chaining is the process of calling one constructor from another constructor. Constructor chaining is useful \n",
    "when you want to invoke multiple constructors, one after another, by initializing only one instance.\n",
    "its useful when we using inheritance'''\n",
    "class Car:\n",
    "    def __init__(self,color):\n",
    "        self.color=color\n",
    "class Car1(Car):\n",
    "    def __init__(self,color,maxSpeed):\n",
    "        super().__init__(color)\n",
    "        self.maxSpeed=maxSpeed\n",
    "class Car2(Car1):\n",
    "    def __init__(self,color,maxSpeed,name):\n",
    "        super().__init__(color,maxSpeed)\n",
    "        self.name=name\n",
    "c=Car2('black',280,'thar')\n",
    "print('car name is ',c.name)\n",
    "print('car speed is ', c.maxSpeed)\n",
    "print('car color is',c.color)"
   ]
  },
  {
   "cell_type": "code",
   "execution_count": 21,
   "id": "f0e71a4a-a753-43fc-9b0a-6d5e1afa8169",
   "metadata": {},
   "outputs": [
    {
     "name": "stdout",
     "output_type": "stream",
     "text": [
      "car is made by mahindra\n",
      "car model is  thar\n"
     ]
    }
   ],
   "source": [
    "#20.\n",
    "class Car:\n",
    "    def __init__(self,make,model):\n",
    "        self.make=make\n",
    "        self.model=model\n",
    "    def info(self):\n",
    "        print('car is made by',self.make)\n",
    "        print('car model is ',self.model)\n",
    "c=Car('mahindra','thar')\n",
    "c.info()"
   ]
  },
  {
   "cell_type": "raw",
   "id": "934a8c22",
   "metadata": {},
   "source": [
    "# Inheritance:\n",
    "1. What is inheritance in Python? Explain its significance in object-oriented programming.\n",
    "2. Differentiate between single inheritance and multiple inheritance in Python. Provide examples for each.\n",
    "3. Create a Python class called `Vehicle` with attributes `color` and `speed`. Then, create a child class called\n",
    "`Car` that inherits from `Vehicle` and adds a `brand` attribute. Provide an example of creating a `Car` object.\n",
    "4. Explain the concept of method overriding in inheritance. Provide a practical example.\n",
    "5. How can you access the methods and attributes of a parent class from a child class in Python? Give an\n",
    "example.\n",
    "6. Discuss the use of the `super()` function in Python inheritance. When and why is it used? Provide an\n",
    "example.\n",
    "7. Create a Python class called `Animal` with a method `speak()`. Then, create child classes `Dog` and `Cat` that inherit from `Animal` and override the `speak()` method. Provide an example of using these classes.\n",
    "8. Explain the role of the `isinstance()` function in Python and how it relates to inheritance.\n",
    "9. What is the purpose of the `issubclass()` function in Python? Provide an example.\n",
    "10. Discuss the concept of constructor inheritance in Python. How are constructors inherited in child classes?\n",
    "11. Create a Python class called `Shape` with a method `area()` that calculates the area of a shape. Then, create child classes `Circle` and `Rectangle` that inherit from `Shape` and implement the `area()` method\n",
    "accordingly. Provide an example.\n",
    "12. Explain the use of abstract base classes (ABCs) in Python and how they relate to inheritance. Provide an\n",
    "example using the `abc` module.\n",
    "13. How can you prevent a child class from modifying certain attributes or methods inherited from a parent\n",
    "class in Python?\n",
    "14. Create a Python class called `Employee` with attributes `name` and `salary`. Then, create a child class\n",
    "`Manager` that inherits from `Employee` and adds an attribute `department`. Provide an example.\n",
    "15. Discuss the concept of method overloading in Python inheritance. How does it differ from method\n",
    "overriding?\n",
    "16. Explain the purpose of the `__init__()` method in Python inheritance and how it is utilized in child classes.\n",
    "17. Create a Python class called `Bird` with a method `fly()`. Then, create child classes `Eagle` and `Sparrow` that inherit from `Bird` and implement the `fly()` method differently. Provide an example of using these\n",
    "classes.\n",
    "18. What is the \"diamond problem\" in multiple inheritance, and how does Python address it?\n",
    "19. Discuss the concept of \"is-a\" and \"has-a\" relationships in inheritance, and provide examples of each.\n",
    "20. Create a Python class hierarchy for a university system. Start with a base class `Person` and create child\n",
    "classes `Student` and `Professor`, each with their own attributes and methods. Provide an example of using\n",
    "these classes in a university context."
   ]
  },
  {
   "cell_type": "code",
   "execution_count": 22,
   "id": "77090770",
   "metadata": {},
   "outputs": [
    {
     "data": {
      "text/plain": [
       "'1. What is inheritance in Python? Explain its significance in object-oriented programming.\\n2. Differentiate between single inheritance and multiple inheritance in Python. Provide examples for each.\\n3. Create a Python class called `Vehicle` with attributes `color` and `speed`. Then, create a child class called\\n`Car` that inherits from `Vehicle` and adds a `brand` attribute. Provide an example of creating a `Car` object.\\n4. Explain the concept of method overriding in inheritance. Provide a practical example.\\n5. How can you access the methods and attributes of a parent class from a child class in Python? Give an\\nexample.'"
      ]
     },
     "execution_count": 22,
     "metadata": {},
     "output_type": "execute_result"
    }
   ],
   "source": [
    "'''1. What is inheritance in Python? Explain its significance in object-oriented programming.\n",
    "2. Differentiate between single inheritance and multiple inheritance in Python. Provide examples for each.\n",
    "3. Create a Python class called `Vehicle` with attributes `color` and `speed`. Then, create a child class called\n",
    "`Car` that inherits from `Vehicle` and adds a `brand` attribute. Provide an example of creating a `Car` object.\n",
    "4. Explain the concept of method overriding in inheritance. Provide a practical example.\n",
    "5. How can you access the methods and attributes of a parent class from a child class in Python? Give an\n",
    "example.'''\n"
   ]
  },
  {
   "cell_type": "code",
   "execution_count": 23,
   "id": "05aa7f0b",
   "metadata": {},
   "outputs": [
    {
     "data": {
      "text/plain": [
       "'programming inheritance helps to achieve reusability of code.'"
      ]
     },
     "execution_count": 23,
     "metadata": {},
     "output_type": "execute_result"
    }
   ],
   "source": [
    "#1. inheritance is the relationship between child and parent class. child inherits the properties of parents class. In object oriented\n",
    "'''programming inheritance helps to achieve reusability of code.'''"
   ]
  },
  {
   "cell_type": "code",
   "execution_count": 24,
   "id": "701349c4",
   "metadata": {},
   "outputs": [
    {
     "name": "stdout",
     "output_type": "stream",
     "text": [
      "345\n",
      "88/91 345\n"
     ]
    }
   ],
   "source": [
    "#2.\n",
    "'''single inheritance has only one child with one parent'''\n",
    "class Person:\n",
    "    phoneNo=345\n",
    "class Arpan(Person):\n",
    "    address='88/61'\n",
    "    def __init__(self):\n",
    "        \n",
    "        print(self.phoneNo)\n",
    "a=Arpan()\n",
    "'''one child have 2 parents in multiple inheritance'''\n",
    "class Gupta(Arpan,Person):\n",
    "    def __init__(self):\n",
    "        self.address='88/91'\n",
    "        print(self.address,self.phoneNo)\n",
    "b=Gupta()"
   ]
  },
  {
   "cell_type": "code",
   "execution_count": 25,
   "id": "68a4bc74",
   "metadata": {},
   "outputs": [
    {
     "name": "stdout",
     "output_type": "stream",
     "text": [
      "orange and 280 and tata\n"
     ]
    }
   ],
   "source": [
    "#3.3. Create a Python class called `Vehicle` with attributes `color` and `speed`. Then, create a child class called\n",
    "#`Car` that inherits from `Vehicle` and adds a `brand` attribute. Provide an example of creating a `Car` object.\n",
    "\n",
    "class Vehicle:\n",
    "    color='orange'\n",
    "    speed=280\n",
    "class Car(Vehicle):\n",
    "    def __init__(self):\n",
    "        self.brand='tata'\n",
    "        print(self.color,'and',self.speed,'and',self.brand)\n",
    "c=Car()"
   ]
  },
  {
   "cell_type": "code",
   "execution_count": 26,
   "id": "34d0121d",
   "metadata": {},
   "outputs": [
    {
     "name": "stdout",
     "output_type": "stream",
     "text": [
      "animal is eating\n"
     ]
    }
   ],
   "source": [
    "#4.method overriding in inheritance\n",
    "class Person:\n",
    "    def eat(self):\n",
    "        print('Person is eating')\n",
    "class Animal(Person):\n",
    "    def eat(self):\n",
    "        print('animal is eating')\n",
    "tiger=Animal()\n",
    "tiger.eat()"
   ]
  },
  {
   "cell_type": "code",
   "execution_count": 27,
   "id": "0e84d4d6",
   "metadata": {},
   "outputs": [
    {
     "name": "stdout",
     "output_type": "stream",
     "text": [
      "color of car is black and name is mahindra thar\n",
      "car is start\n"
     ]
    }
   ],
   "source": [
    "#5.\n",
    "class Vehicle:\n",
    "    color='black'\n",
    "    name='mahindra thar'\n",
    "    def start(self):\n",
    "        print('car is start')\n",
    "class Thar(Vehicle):\n",
    "    def __init__(self):\n",
    "        print(f'color of car is {self.color} and name is {self.name}')\n",
    "        super().start()\n",
    "t=Thar()"
   ]
  },
  {
   "cell_type": "code",
   "execution_count": 28,
   "id": "0fdbfd0a",
   "metadata": {},
   "outputs": [
    {
     "data": {
      "text/plain": [
       "'6. Discuss the use of the `super()` function in Python inheritance. When and why is it used? Provide an\\nexample.\\n7. Create a Python class called `Animal` with a method `speak()`. Then, create child classes `Dog` and `Cat` that inherit from `Animal` and override the `speak()` method. Provide an example of using these classes.\\n8. Explain the role of the `isinstance()` function in Python and how it relates to inheritance.\\n9. What is the purpose of the `issubclass()` function in Python? Provide an example.\\n10. Discuss the concept of constructor inheritance in Python. How are constructors inherited in child classes?'"
      ]
     },
     "execution_count": 28,
     "metadata": {},
     "output_type": "execute_result"
    }
   ],
   "source": [
    "'''6. Discuss the use of the `super()` function in Python inheritance. When and why is it used? Provide an\n",
    "example.\n",
    "7. Create a Python class called `Animal` with a method `speak()`. Then, create child classes `Dog` and `Cat` that inherit from `Animal` and override the `speak()` method. Provide an example of using these classes.\n",
    "8. Explain the role of the `isinstance()` function in Python and how it relates to inheritance.\n",
    "9. What is the purpose of the `issubclass()` function in Python? Provide an example.\n",
    "10. Discuss the concept of constructor inheritance in Python. How are constructors inherited in child classes?'''"
   ]
  },
  {
   "cell_type": "code",
   "execution_count": 29,
   "id": "bdfd705e",
   "metadata": {},
   "outputs": [
    {
     "name": "stdout",
     "output_type": "stream",
     "text": [
      "yellow\n",
      "titan\n"
     ]
    }
   ],
   "source": [
    "#6.\n",
    "'''super function is used for accessing the attributes and behaviour of parent class inside child class'''\n",
    "class accessiories:\n",
    "    color='yellow'\n",
    "    brand='titan'\n",
    "class watch(accessiories):\n",
    "    def __init__(self):\n",
    "        print(super().color)\n",
    "        print(super().brand)\n",
    "w=watch()"
   ]
  },
  {
   "cell_type": "code",
   "execution_count": 30,
   "id": "8a404172",
   "metadata": {},
   "outputs": [
    {
     "name": "stdout",
     "output_type": "stream",
     "text": [
      "cat is speaking\n",
      "None\n",
      "dog is speaking\n",
      "None\n"
     ]
    }
   ],
   "source": [
    "#7.\n",
    "class Animal:\n",
    "    def speak(self):\n",
    "        print('animal is speaking')\n",
    "class Dog(Animal):\n",
    "    def speak(self):\n",
    "        print('dog is speaking')\n",
    "class Cat(Animal):\n",
    "    def speak(self):\n",
    "        print('cat is speaking')\n",
    "c=Cat()\n",
    "print(c.speak())\n",
    "d=Dog()\n",
    "print(d.speak())"
   ]
  },
  {
   "cell_type": "code",
   "execution_count": 31,
   "id": "d0ac45c6",
   "metadata": {},
   "outputs": [
    {
     "name": "stdout",
     "output_type": "stream",
     "text": [
      "True\n"
     ]
    },
    {
     "data": {
      "text/plain": [
       "True"
      ]
     },
     "execution_count": 31,
     "metadata": {},
     "output_type": "execute_result"
    }
   ],
   "source": [
    "#8\n",
    "'''Python isinstance() function returns True if the object is of specified types, and if it does not match then returns False.'''\n",
    "print(isinstance(d,Animal))\n",
    "#9.issubclass\n",
    "'''The issubclass() function returns True if the specified object is a subclass of the specified object, otherwise False'''\n",
    "issubclass(Dog,Animal)"
   ]
  },
  {
   "cell_type": "code",
   "execution_count": 32,
   "id": "e99bb1f6",
   "metadata": {},
   "outputs": [
    {
     "name": "stdout",
     "output_type": "stream",
     "text": [
      "2 and 3\n"
     ]
    }
   ],
   "source": [
    "#10.Discuss the concept of constructor inheritance in Python. How are constructors inherited in child classes?'''\n",
    "class A:\n",
    "    def __init__(self,a,b):\n",
    "        self.a=a\n",
    "        self.b=b\n",
    "        print(self.a,'and',self.b)\n",
    "class B(A):\n",
    "    def __init__(self,a,b):\n",
    "        super().__init__(a,b)\n",
    "b=B(2,3)"
   ]
  },
  {
   "cell_type": "code",
   "execution_count": 33,
   "id": "847407d9",
   "metadata": {},
   "outputs": [
    {
     "data": {
      "text/plain": [
       "'11. Create a Python class called `Shape` with a method `area()` that calculates the area of a shape. Then, create child classes `Circle` and `Rectangle` that inherit from `Shape` and implement the `area()` method\\naccordingly. Provide an example.\\n12. Explain the use of abstract base classes (ABCs) in Python and how they relate to inheritance. Provide an\\nexample using the `abc` module.\\n13. How can you prevent a child class from modifying certain attributes or methods inherited from a parent\\nclass in Python?\\n14. Create a Python class called `Employee` with attributes `name` and `salary`. Then, create a child class\\n`Manager` that inherits from `Employee` and adds an attribute `department`. Provide an example.\\n15. Discuss the concept of method overloading in Python inheritance. How does it differ from method\\noverriding?'"
      ]
     },
     "execution_count": 33,
     "metadata": {},
     "output_type": "execute_result"
    }
   ],
   "source": [
    "'''11. Create a Python class called `Shape` with a method `area()` that calculates the area of a shape. Then, create child classes `Circle` and `Rectangle` that inherit from `Shape` and implement the `area()` method\n",
    "accordingly. Provide an example.\n",
    "12. Explain the use of abstract base classes (ABCs) in Python and how they relate to inheritance. Provide an\n",
    "example using the `abc` module.\n",
    "13. How can you prevent a child class from modifying certain attributes or methods inherited from a parent\n",
    "class in Python?\n",
    "14. Create a Python class called `Employee` with attributes `name` and `salary`. Then, create a child class\n",
    "`Manager` that inherits from `Employee` and adds an attribute `department`. Provide an example.\n",
    "15. Discuss the concept of method overloading in Python inheritance. How does it differ from method\n",
    "overriding?'''"
   ]
  },
  {
   "cell_type": "code",
   "execution_count": 34,
   "id": "3f3b15e4",
   "metadata": {},
   "outputs": [
    {
     "name": "stdout",
     "output_type": "stream",
     "text": [
      "area of rectangle is 6\n",
      "area of circle is 50.24\n"
     ]
    }
   ],
   "source": [
    "#11.\n",
    "class Shape:\n",
    "    def area():\n",
    "        pass\n",
    "class Rectangle(Shape):\n",
    "    def area(self,l,w):\n",
    "        print('area of rectangle is',l*w)\n",
    "class Circle(Shape):\n",
    "    def area(self,r):\n",
    "        print('area of circle is',3.14*r**2)\n",
    "r=Rectangle()\n",
    "r.area(2,3)\n",
    "c=Circle()\n",
    "c.area(4)"
   ]
  },
  {
   "cell_type": "code",
   "execution_count": 35,
   "id": "265d3790",
   "metadata": {},
   "outputs": [
    {
     "name": "stdout",
     "output_type": "stream",
     "text": [
      "ambuja is eating\n",
      "ambuja is sleeping\n",
      "ambuja is walking\n"
     ]
    }
   ],
   "source": [
    "#12.\n",
    "from abc import ABC,abstractmethod\n",
    "class A(ABC):\n",
    "    @abstractmethod\n",
    "    def eat(self):\n",
    "        pass\n",
    "    @abstractmethod\n",
    "    def sleep(self):\n",
    "        pass\n",
    "    @abstractmethod\n",
    "    def walk(self):\n",
    "        pass\n",
    "    def run():\n",
    "        print('animal is running')\n",
    "class B(A):\n",
    "    def eat(self):\n",
    "        print('ambuja is eating')\n",
    "    def sleep(self):\n",
    "        print('ambuja is sleeping')\n",
    "    def walk(self):\n",
    "        print('ambuja is walking')\n",
    "    def run(self):\n",
    "        print('ambuja is running')\n",
    "b=B()\n",
    "b.eat()\n",
    "b.sleep()\n",
    "b.walk()"
   ]
  },
  {
   "cell_type": "code",
   "execution_count": 36,
   "id": "d44a8220",
   "metadata": {},
   "outputs": [
    {
     "name": "stdout",
     "output_type": "stream",
     "text": [
      "employee name vikas\n",
      "employee salary 2000\n",
      "employee department Testing\n"
     ]
    }
   ],
   "source": [
    "#14.14. Create a Python class called `Employee` with attributes `name` and `salary`. Then, create a child class\n",
    "#`Manager` that inherits from `Employee` and adds an attribute `department`. Provide an example.\n",
    "class Employee:\n",
    "    def __init__(self,name,salary):\n",
    "        self.name=name\n",
    "        self.salary=salary\n",
    "class Manager(Employee):\n",
    "    def __init__(self,name,salary,department):\n",
    "        super().__init__(name,salary)\n",
    "        self.department=department\n",
    "    def display(self):\n",
    "        print('employee name',self.name)\n",
    "        print('employee salary',self.salary)\n",
    "        print('employee department',self.department)\n",
    "m=Manager('vikas',2000,'Testing')\n",
    "m.display()"
   ]
  },
  {
   "cell_type": "code",
   "execution_count": 37,
   "id": "3812f570",
   "metadata": {},
   "outputs": [
    {
     "data": {
      "text/plain": [
       "'method overloading is the concept of oops in which methods have same name with different parameters. Its different from method\\noverriding. In the method overrriding have same name with same parameters inside child class'"
      ]
     },
     "execution_count": 37,
     "metadata": {},
     "output_type": "execute_result"
    }
   ],
   "source": [
    "#15. method overloading\n",
    "'''method overloading is the concept of oops in which methods have same name with different parameters. Its different from method\n",
    "overriding. In the method overrriding have same name with same parameters inside child class'''"
   ]
  },
  {
   "cell_type": "code",
   "execution_count": 38,
   "id": "65fabf30",
   "metadata": {},
   "outputs": [
    {
     "data": {
      "text/plain": [
       "'16. Explain the purpose of the `__init__()` method in Python inheritance and how it is utilized in child classes.\\n17. Create a Python class called `Bird` with a method `fly()`. Then, create child classes `Eagle` and `Sparrow` that inherit from `Bird` and implement the `fly()` method differently. Provide an example of using these\\nclasses.\\n18. What is the \"diamond problem\" in multiple inheritance, and how does Python address it?\\n19. Discuss the concept of \"is-a\" and \"has-a\" relationships in inheritance, and provide examples of each.\\n20. Create a Python class hierarchy for a university system. Start with a base class `Person` and create child\\nclasses `Student` and `Professor`, each with their own attributes and methods. Provide an example of using\\nthese classes in a university context.'"
      ]
     },
     "execution_count": 38,
     "metadata": {},
     "output_type": "execute_result"
    }
   ],
   "source": [
    "'''16. Explain the purpose of the `__init__()` method in Python inheritance and how it is utilized in child classes.\n",
    "17. Create a Python class called `Bird` with a method `fly()`. Then, create child classes `Eagle` and `Sparrow` that inherit from `Bird` and implement the `fly()` method differently. Provide an example of using these\n",
    "classes.\n",
    "18. What is the \"diamond problem\" in multiple inheritance, and how does Python address it?\n",
    "19. Discuss the concept of \"is-a\" and \"has-a\" relationships in inheritance, and provide examples of each.\n",
    "20. Create a Python class hierarchy for a university system. Start with a base class `Person` and create child\n",
    "classes `Student` and `Professor`, each with their own attributes and methods. Provide an example of using\n",
    "these classes in a university context.'''"
   ]
  },
  {
   "cell_type": "code",
   "execution_count": 39,
   "id": "f7874263",
   "metadata": {},
   "outputs": [
    {
     "data": {
      "text/plain": [
       "'this __init__ created for initlisation of object . when we create child class then we can access assign the attributes with the help\\nof super().__init__()'"
      ]
     },
     "execution_count": 39,
     "metadata": {},
     "output_type": "execute_result"
    }
   ],
   "source": [
    "#16.__init__() function is used for initlisation of object . when the object is created then first __new__function is executed after\n",
    "'''this __init__ created for initlisation of object . when we create child class then we can access assign the attributes with the help\n",
    "of super().__init__()'''"
   ]
  },
  {
   "cell_type": "code",
   "execution_count": 40,
   "id": "d92710dd",
   "metadata": {},
   "outputs": [
    {
     "name": "stdout",
     "output_type": "stream",
     "text": [
      "sparrwo is flying\n",
      "Eagle is flying\n"
     ]
    }
   ],
   "source": [
    "#17.\n",
    "class Bird:\n",
    "    def fly(self):\n",
    "        print('bird is flying')\n",
    "class  Eagle(Bird):\n",
    "    def fly(self):\n",
    "        print('Eagle is flying')\n",
    "class Sparrow(Bird):\n",
    "    def fly(self):\n",
    "        print('sparrwo is flying')\n",
    "s=Sparrow()\n",
    "s.fly()\n",
    "e=Eagle()\n",
    "e.fly()"
   ]
  },
  {
   "cell_type": "code",
   "execution_count": 41,
   "id": "88bbe5f8",
   "metadata": {},
   "outputs": [
    {
     "data": {
      "text/plain": [
       "'18. What is the \"diamond problem\" in multiple inheritance, and how does Python address it?\\n19. Discuss the concept of \"is-a\" and \"has-a\" relationships in inheritance, and provide examples of each.\\n20. Create a Python class hierarchy for a university system. Start with a base class `Person` and create child\\nclasses `Student` and `Professor`, each with their own attributes and methods. Provide an example of using\\nthese classes in a university context.'"
      ]
     },
     "execution_count": 41,
     "metadata": {},
     "output_type": "execute_result"
    }
   ],
   "source": [
    "'''18. What is the \"diamond problem\" in multiple inheritance, and how does Python address it?\n",
    "19. Discuss the concept of \"is-a\" and \"has-a\" relationships in inheritance, and provide examples of each.\n",
    "20. Create a Python class hierarchy for a university system. Start with a base class `Person` and create child\n",
    "classes `Student` and `Professor`, each with their own attributes and methods. Provide an example of using\n",
    "these classes in a university context.'''"
   ]
  },
  {
   "cell_type": "code",
   "execution_count": 42,
   "id": "cd8ec108",
   "metadata": {},
   "outputs": [
    {
     "data": {
      "text/plain": [
       "'Python resolve this probllem by python resolution order and its calls __mro__ fumction bydefault and resolve accordingly means when we inherit one class before other class than first one class mehtods call'"
      ]
     },
     "execution_count": 42,
     "metadata": {},
     "output_type": "execute_result"
    }
   ],
   "source": [
    "#.18 Diamond problem is arises ambiguity means when child class inherits the properties more than one parents and one property is same in both parent then diamond ambugity occurs.\n",
    "'''Python resolve this probllem by python resolution order and its calls __mro__ fumction bydefault and resolve accordingly means when we inherit one class before other class than first one class mehtods call'''"
   ]
  },
  {
   "cell_type": "code",
   "execution_count": 43,
   "id": "2f0a5a76",
   "metadata": {},
   "outputs": [
    {
     "data": {
      "text/plain": [
       "'has-a:-Composition(HAS-A) simply mean the use of instance variables that are references to other objects. For example Maruti has Engine, or House has Bathroom.'"
      ]
     },
     "execution_count": 43,
     "metadata": {},
     "output_type": "execute_result"
    }
   ],
   "source": [
    "#19.\n",
    "'''Is-A:- n object-oriented programming, the concept of IS-A is a totally based on Inheritance, which can be of two types Class Inheritance or Interface Inheritance. It is just like saying \"A is a B type of thing\". For example, Apple is a Fruit, Car is a Vehicle etc. Inheritance is uni-directional. For example, House is a Building. But Building is not a House.\n",
    "It is a key point to note that you can easily identify the IS-A relationship. Wherever you see an extends keyword or implements keyword in a class declaration, then this class is said to have IS-A relationship.'''\n",
    "'''has-a:-Composition(HAS-A) simply mean the use of instance variables that are references to other objects. For example Maruti has Engine, or House has Bathroom.'''"
   ]
  },
  {
   "cell_type": "code",
   "execution_count": 44,
   "id": "d204889e",
   "metadata": {},
   "outputs": [
    {
     "name": "stdout",
     "output_type": "stream",
     "text": [
      "professor college name is TiT\n",
      "None\n",
      "prfessor university name is rgpv\n",
      "None\n",
      "subject of professor isdata science\n",
      "None\n",
      "student college name is TiT\n",
      "None\n",
      "student university name is rgpv\n",
      "None\n",
      "subjects of students is ['dsa', 'oops', 'data science', 'sql']\n",
      "None\n"
     ]
    }
   ],
   "source": [
    "#20.\n",
    "import random\n",
    "class Person:\n",
    "    subjects=['dsa','oops','data science','sql']\n",
    "    salary=200000\n",
    "    college_name='TiT'\n",
    "    university_name='rgpv'\n",
    "class Professor(Person):\n",
    "    def professor_subjects(self):\n",
    "        k=random.randint(0,len(self.subjects)-1)\n",
    "        print(f'subject of professor is{self.subjects[k]}')\n",
    "    def salary(self):\n",
    "        print(f' professor of salary is {self.salary}')  \n",
    "    def name_college(self):\n",
    "        print('professor college name is',self.college_name)\n",
    "    def name_university(self):\n",
    "        print('prfessor university name is',self.university_name)\n",
    "class Student(Person):\n",
    "    def name_college(self):\n",
    "        print('student college name is',self.college_name)\n",
    "    def name_university(self):\n",
    "        print('student university name is',self.university_name)\n",
    "    def name_subjects(self):\n",
    "        print('subjects of students is',self.subjects)\n",
    "\n",
    "divyank=Professor()\n",
    "print(divyank.name_college())\n",
    "print(divyank.name_university())\n",
    "print(divyank.professor_subjects())\n",
    "radha=Student()\n",
    "print(radha.name_college())\n",
    "print(radha.name_university())\n",
    "print(radha.name_subjects())"
   ]
  },
  {
   "cell_type": "code",
   "execution_count": 45,
   "id": "d656685a",
   "metadata": {},
   "outputs": [
    {
     "data": {
      "text/plain": [
       "1"
      ]
     },
     "execution_count": 45,
     "metadata": {},
     "output_type": "execute_result"
    }
   ],
   "source": [
    "import random\n",
    "k=[1,2,3,4]\n",
    "random.randint(0,len(k)-1)"
   ]
  },
  {
   "cell_type": "code",
   "execution_count": 46,
   "id": "a9b0b377",
   "metadata": {},
   "outputs": [
    {
     "data": {
      "text/plain": [
       "'Encapsulation:\\n1. Explain the concept of encapsulation in Python. What is its role in object-oriented programming?\\n2. Describe the key principles of encapsulation, including access control and data hiding.\\n3. How can you achieve encapsulation in Python classes? Provide an example.\\n4. Discuss the difference between public, private, and protected access modifiers in Python.\\n5. Create a Python class called `Person` with a private attribute `__name`. Provide methods to get and set the\\nname attribute.\\n6. Explain the purpose of getter and setter methods in encapsulation. Provide examples.\\n7. What is name mangling in Python, and how does it affect encapsulation?\\n8. Create a Python class called `BankAccount` with private attributes for the account balance (`__balance`) and account number (`__account_number`). Provide methods for depositing and withdrawing money.\\n9. Discuss the advantages of encapsulation in terms of code maintainability and security.\\n10. How can you access private attributes in Python? Provide an example demonstrating the use of name\\nmangling.\\n11. Create a Python class hierarchy for a school system, including classes for students, teachers, and courses,\\nand implement encapsulation principles to protect sensitive information.\\n12. Explain the concept of property decorators in Python and how they relate to encapsulation.\\n13. What is data hiding, and why is it important in encapsulation? Provide examples.\\n14. Create a Python class called `Employee` with private attributes for salary (`__salary`) and employee ID (`__employee_id`). Provide a method to calculate yearly bonuses.\\n15. Discuss the use of accessors and mutators in encapsulation. How do they help maintain control over\\nattribute access?\\n16. What are the potential drawbacks or disadvantages of using encapsulation in Python?\\n17. Create a Python class for a library system that encapsulates book information, including titles, authors,\\nand availability status.\\n18. Explain how encapsulation enhances code reusability and modularity in Python programs.\\n19. Describe the concept of information hiding in encapsulation. Why is it essential in software development?\\n20. Create a Python class called `Customer` with private attributes for customer details like name, address,\\nand contact information. Implement encapsulation to ensure data integrity and security.'"
      ]
     },
     "execution_count": 46,
     "metadata": {},
     "output_type": "execute_result"
    }
   ],
   "source": [
    "'''Encapsulation:\n",
    "1. Explain the concept of encapsulation in Python. What is its role in object-oriented programming?\n",
    "2. Describe the key principles of encapsulation, including access control and data hiding.\n",
    "3. How can you achieve encapsulation in Python classes? Provide an example.\n",
    "4. Discuss the difference between public, private, and protected access modifiers in Python.\n",
    "5. Create a Python class called `Person` with a private attribute `__name`. Provide methods to get and set the\n",
    "name attribute.\n",
    "6. Explain the purpose of getter and setter methods in encapsulation. Provide examples.\n",
    "7. What is name mangling in Python, and how does it affect encapsulation?\n",
    "8. Create a Python class called `BankAccount` with private attributes for the account balance (`__balance`) and account number (`__account_number`). Provide methods for depositing and withdrawing money.\n",
    "9. Discuss the advantages of encapsulation in terms of code maintainability and security.\n",
    "10. How can you access private attributes in Python? Provide an example demonstrating the use of name\n",
    "mangling.\n",
    "11. Create a Python class hierarchy for a school system, including classes for students, teachers, and courses,\n",
    "and implement encapsulation principles to protect sensitive information.\n",
    "12. Explain the concept of property decorators in Python and how they relate to encapsulation.\n",
    "13. What is data hiding, and why is it important in encapsulation? Provide examples.\n",
    "14. Create a Python class called `Employee` with private attributes for salary (`__salary`) and employee ID (`__employee_id`). Provide a method to calculate yearly bonuses.\n",
    "15. Discuss the use of accessors and mutators in encapsulation. How do they help maintain control over\n",
    "attribute access?\n",
    "16. What are the potential drawbacks or disadvantages of using encapsulation in Python?\n",
    "17. Create a Python class for a library system that encapsulates book information, including titles, authors,\n",
    "and availability status.\n",
    "18. Explain how encapsulation enhances code reusability and modularity in Python programs.\n",
    "19. Describe the concept of information hiding in encapsulation. Why is it essential in software development?\n",
    "20. Create a Python class called `Customer` with private attributes for customer details like name, address,\n",
    "and contact information. Implement encapsulation to ensure data integrity and security.'''"
   ]
  },
  {
   "cell_type": "code",
   "execution_count": 47,
   "id": "bd128261",
   "metadata": {},
   "outputs": [
    {
     "data": {
      "text/plain": [
       "'1. Explain the concept of encapsulation in Python. What is its role in object-oriented programming?\\n2. Describe the key principles of encapsulation, including access control and data hiding.\\n3. How can you achieve encapsulation in Python classes? Provide an example.\\n4. Discuss the difference between public, private, and protected access modifiers in Python.\\n5. Create a Python class called `Person` with a private attribute `__name`. Provide methods to get and set the\\nname attribute.'"
      ]
     },
     "execution_count": 47,
     "metadata": {},
     "output_type": "execute_result"
    }
   ],
   "source": [
    "'''1. Explain the concept of encapsulation in Python. What is its role in object-oriented programming?\n",
    "2. Describe the key principles of encapsulation, including access control and data hiding.\n",
    "3. How can you achieve encapsulation in Python classes? Provide an example.\n",
    "4. Discuss the difference between public, private, and protected access modifiers in Python.\n",
    "5. Create a Python class called `Person` with a private attribute `__name`. Provide methods to get and set the\n",
    "name attribute.'''"
   ]
  },
  {
   "cell_type": "code",
   "execution_count": 48,
   "id": "b23b5086",
   "metadata": {},
   "outputs": [
    {
     "ename": "AttributeError",
     "evalue": "'A' object has no attribute '__name'",
     "output_type": "error",
     "traceback": [
      "\u001b[1;31m---------------------------------------------------------------------------\u001b[0m",
      "\u001b[1;31mAttributeError\u001b[0m                            Traceback (most recent call last)",
      "Cell \u001b[1;32mIn[48], line 7\u001b[0m\n\u001b[0;32m      5\u001b[0m     __name\u001b[38;5;241m=\u001b[39m\u001b[38;5;124m'\u001b[39m\u001b[38;5;124marpan\u001b[39m\u001b[38;5;124m'\u001b[39m\n\u001b[0;32m      6\u001b[0m a\u001b[38;5;241m=\u001b[39mA()\n\u001b[1;32m----> 7\u001b[0m a\u001b[38;5;241m.\u001b[39m__name\n",
      "\u001b[1;31mAttributeError\u001b[0m: 'A' object has no attribute '__name'"
     ]
    }
   ],
   "source": [
    "#1.\n",
    "'''encapsulation is the wrapping up of data members and member variables in the single unit is called encapsulation. In oops encapsulation\n",
    "is used for hiding details'''\n",
    "class A:\n",
    "    __name='arpan'\n",
    "a=A()\n",
    "a.__name"
   ]
  },
  {
   "cell_type": "code",
   "execution_count": null,
   "id": "c9868d33",
   "metadata": {},
   "outputs": [],
   "source": [
    "#2.encapsulation is used for hiding details or data. Its can be achieved by the private access modifier."
   ]
  },
  {
   "cell_type": "code",
   "execution_count": null,
   "id": "2aa2f00c",
   "metadata": {},
   "outputs": [],
   "source": [
    "#3. we can achieve encapsulation by access modifiers. there are 3 access modifiers in python. public,private and protected. we can achieve encapsulation by private access modifier.\n",
    "class A:\n",
    "    __name='arpan'\n",
    "a=A()\n",
    "a.__name"
   ]
  },
  {
   "cell_type": "code",
   "execution_count": null,
   "id": "f45ffbb9",
   "metadata": {},
   "outputs": [],
   "source": [
    "#4.\n",
    "'''public access modifier is accessed by any object and outside classes. private is cant acessed by outside class and protected is accessed by its parent\n",
    "class and its child classes'''"
   ]
  },
  {
   "cell_type": "code",
   "execution_count": null,
   "id": "cc486c24",
   "metadata": {},
   "outputs": [],
   "source": [
    "#5.\n",
    "class Person:\n",
    "    __name='arpan gupta'\n",
    "    @property\n",
    "    def name(self):\n",
    "        return self.__name\n",
    "    @name.setter\n",
    "    def name(self,name):\n",
    "        self.__name=name\n",
    "    @name.getter\n",
    "    def getname(self):\n",
    "        return self.__name\n",
    "p=Person()\n",
    "p.name='gupta'\n",
    "p.getname"
   ]
  },
  {
   "cell_type": "code",
   "execution_count": null,
   "id": "11095c8f",
   "metadata": {},
   "outputs": [],
   "source": [
    "'''6. Explain the purpose of getter and setter methods in encapsulation. Provide examples.\n",
    "7. What is name mangling in Python, and how does it affect encapsulation?\n",
    "8. Create a Python class called `BankAccount` with private attributes for the account balance (`__balance`) and account number (`__account_number`). Provide methods for depositing and withdrawing money.\n",
    "9. Discuss the advantages of encapsulation in terms of code maintainability and security.\n",
    "10. How can you access private attributes in Python? Provide an example demonstrating the use of name\n",
    "mangling.'''"
   ]
  },
  {
   "cell_type": "code",
   "execution_count": null,
   "id": "7b5f996f",
   "metadata": {},
   "outputs": [],
   "source": [
    "#6.\n",
    "'''getter and setter methods are used to set the data and get the data .'''\n",
    "class Vehicle:\n",
    "    __vehicle_name=\"\"\n",
    "    def setname(self,name):\n",
    "        self.__vehicle_name=name\n",
    "    def getname(self):\n",
    "        return self.__vehicle_name\n",
    "v=Vehicle()\n",
    "v.setname('thar')\n",
    "v.getname()"
   ]
  },
  {
   "cell_type": "code",
   "execution_count": null,
   "id": "a9fd8e49",
   "metadata": {},
   "outputs": [],
   "source": [
    "#7.\n",
    "'''A process in which any given identifier with one trailing underscore and two leading underscores is textually replaced with the __ClassName__Identifier is known as Name mangling. \n",
    "In __ClassName__Identifier name, ClassName is the name of current class where identifier is present.'''\n",
    "class Doctor:\n",
    "    __name='ishita'\n",
    "d=Doctor()\n",
    "d._Doctor__name"
   ]
  },
  {
   "cell_type": "code",
   "execution_count": null,
   "id": "1976921b",
   "metadata": {},
   "outputs": [],
   "source": [
    "#8.Q8.\n",
    "'''8. Create a Python class called `BankAccount` with private attributes for the account balance (`__balance`) and account number (`__account_number`). \n",
    "Provide methods for depositing and withdrawing money.'''\n",
    "#ans:\n",
    "class BankAccount:\n",
    "    __balance=2000\n",
    "    __account_number=2345\n",
    "    \n",
    "    @property\n",
    "    def money(self):\n",
    "        return __balance\n",
    "    @money.setter\n",
    "    def deposite_money(self,balance):\n",
    "        self.__balance=self.__balance+balance\n",
    "    def withdraw_money(self,balance):\n",
    "        self.__balance=self.__balance-balance\n",
    "        return self.__balance\n",
    "vikas=BankAccount()\n",
    "vikas.deposite_money=2000\n",
    "vikas.withdraw_money(500)"
   ]
  },
  {
   "cell_type": "code",
   "execution_count": null,
   "id": "8a350308",
   "metadata": {},
   "outputs": [],
   "source": [
    "#9. Discuss the advantages of encapsulation in terms of code maintainability and security.\n",
    "'''encapsulation hides confidential data from outsiders. so its a very good for security purpose. when we put double undrscore\n",
    "before variable names . variable names converted into the private and this way we know which data is secure or not .'''"
   ]
  },
  {
   "cell_type": "code",
   "execution_count": null,
   "id": "25712abe",
   "metadata": {},
   "outputs": [],
   "source": [
    "#10.How can you access private attributes in Python? Provide an example demonstrating the use of name mangling.'''\n",
    "class A:\n",
    "    __name='dsa'\n",
    "a=A()\n",
    "a._A__name"
   ]
  },
  {
   "cell_type": "code",
   "execution_count": null,
   "id": "3181b1f3",
   "metadata": {},
   "outputs": [],
   "source": [
    "'''11. Create a Python class hierarchy for a school system, including classes for students, teachers, and courses,\n",
    "and implement encapsulation principles to protect sensitive information.\n",
    "12. Explain the concept of property decorators in Python and how they relate to encapsulation.\n",
    "13. What is data hiding, and why is it important in encapsulation? Provide examples.\n",
    "14. Create a Python class called `Employee` with private attributes for salary (`__salary`) and employee ID (`__employee_id`). Provide a method to calculate yearly bonuses.\n",
    "15. Discuss the use of accessors and mutators in encapsulation. How do they help maintain control over\n",
    "attribute access?'''"
   ]
  },
  {
   "cell_type": "code",
   "execution_count": null,
   "id": "3a543807",
   "metadata": {},
   "outputs": [],
   "source": [
    "#11.\n",
    "class Students:\n",
    "    __name=''\n",
    "    __rollno=0\n",
    "    __class=''\n",
    "    __phoneNo=0\n",
    "    __address=''\n",
    "    @property\n",
    "    def rollNo(self):\n",
    "        return self.__rollno\n",
    "    @property\n",
    "    def name(self):\n",
    "        return self.__name\n",
    "    @property\n",
    "    def classname(self):\n",
    "        return self.__class\n",
    "    @property\n",
    "    def phoneno(self):\n",
    "        return self.__phoneNO\n",
    "    @property\n",
    "    def address(self):\n",
    "        return self.__address\n",
    "    @rollNo.setter\n",
    "    def rollNo(self,rollno):\n",
    "        self.__rollno=rollno\n",
    "    @rollNo.getter\n",
    "    def rollNo(self):\n",
    "        return self.__rollno\n",
    "    @name.setter\n",
    "    def name(self,name):\n",
    "        self.__name=name\n",
    "    @name.getter\n",
    "    def name(self):\n",
    "        return self.__name\n",
    "    @classname.setter\n",
    "    def classname(self,classname):\n",
    "        self.__classname=classname\n",
    "    @classname.getter\n",
    "    def classname(self):\n",
    "        return self.__class\n",
    "    @phoneno.setter\n",
    "    def phoneno(self,phoneno):\n",
    "        self.__phoneNo=phoneno\n",
    "    @phoneno.getter\n",
    "    def phoneno(self):\n",
    "        return self.__phoneNo\n",
    "    @address.setter\n",
    "    def address(self,address):\n",
    "        self.__address=address\n",
    "    @address.getter\n",
    "    def address(self):\n",
    "        return self.__address\n",
    "\n",
    "    \n",
    "class Teachers:\n",
    "    \n",
    "    __name=''\n",
    "    __subject=''\n",
    "    __phoneno=0\n",
    "    __salary=0\n",
    "    \n",
    "    @property\n",
    "    def name(self):\n",
    "        return self.__name\n",
    "    @property\n",
    "    def subject(self):\n",
    "        return self.__subject\n",
    "    @property\n",
    "    def phoneno(self):\n",
    "        return self.__phoneno\n",
    "    @property\n",
    "    def salary(self):\n",
    "        return self.__salary\n",
    "    \n",
    "    @name.setter\n",
    "    def setname(self,name):\n",
    "        self.__name=name\n",
    "    @name.getter\n",
    "    def getname(self):\n",
    "        return self.__name\n",
    "    \n",
    "    @subject.setter\n",
    "    def setsubject(self,subject):\n",
    "        self.__subject=subject\n",
    "    @subject.getter\n",
    "    def getsubject(self):\n",
    "        return self.__subject\n",
    "    \n",
    "    @phoneno.setter\n",
    "    def setphoneno(self,phoneno):\n",
    "        self.__phoneno=phoneno\n",
    "    @phoneno.getter\n",
    "    def getphoneno(self):\n",
    "        return self.__phoneno\n",
    "    \n",
    "    @salary.setter\n",
    "    def setsalary(self,salary):\n",
    "        self.__salary=salary\n",
    "    @salary.getter\n",
    "    def getsalary(self):\n",
    "        return self.__salary\n",
    "\n",
    "class Courses:\n",
    "    __courses_name=['dsa','python','data science','machine learning']\n",
    "    __teachers=['vidyank','manish','ashish','aditya','radhika']\n",
    "    __fees=[5000,2000,3000,8000]\n",
    "    \n",
    "    @property\n",
    "    def getfees(self):\n",
    "        pass\n",
    "    @property\n",
    "    def getsubject(self):\n",
    "        pass\n",
    "    @getfees.getter\n",
    "    def get_courses_fees(self):\n",
    "        return dict(zip(self.__courses_name,self.__fees))\n",
    "    @getsubject.getter\n",
    "    def get_subject_teachers(self):\n",
    "        self.__courses_name=['dsa','python','data science','machine learning']\n",
    "        self.__teachers=['vidyank','manish','ashish','aditya','radhika']\n",
    "        return dict(zip(self.__courses_name,self.__teachers))\n"
   ]
  },
  {
   "cell_type": "code",
   "execution_count": null,
   "id": "4e24148f",
   "metadata": {},
   "outputs": [],
   "source": [
    "if __name__=='__main__':\n",
    "\n",
    "    vidyank=Students()\n",
    "    vidyank.rollNo=12\n",
    "    vidyank.name='vidyank'\n",
    "    vidyank.classname='A class'\n",
    "    vidyank.phoneno=4598\n",
    "    vidyank.address='g88/59'\n",
    "    print(vidyank.address)\n",
    "    print(vidyank.rollNo)\n",
    "    print(vidyank.name)\n",
    "    print(vidyank.classname)\n",
    "    print(vidyank.phoneno)\n",
    "    print('---------------------------------')\n",
    "    adbhut=Teachers()\n",
    "    adbhut.setname='adbhut'\n",
    "    adbhut.setsubject='dsa'\n",
    "    adbhut.setphoneno=98767\n",
    "    adbhut.setsalary=4000\n",
    "    print(adbhut.getname)\n",
    "    print(adbhut.getsubject)\n",
    "    print(adbhut.getphoneno)\n",
    "    print(adbhut.getsalary)\n",
    "    print('-----------------------------------')\n",
    "    student=Courses()\n",
    "    print(student.get_courses_fees)\n",
    "    print(student.get_subject_teachers)"
   ]
  },
  {
   "cell_type": "code",
   "execution_count": null,
   "id": "2c7abd52",
   "metadata": {},
   "outputs": [],
   "source": [
    "#12.\n",
    "'''Python programming provides us with a built-in @property decorator which \n",
    "makes usage of getter and setters much easier in Object-Oriented Programming.'''"
   ]
  },
  {
   "cell_type": "code",
   "execution_count": null,
   "id": "0a10804e",
   "metadata": {},
   "outputs": [],
   "source": [
    "#13.\n",
    "'''Data hiding is a part of object-oriented programming, which is generally used to hide the data information from the user. It includes internal object details such as data members, internal working. It maintained the data integrity and restricted access to the class member. The main working of data hiding is that it combines the data and functions into a single unit to conceal data within a class. We cannot directly access the data from outside the class.\n",
    "This process is also known as the data encapsulation. It is done by hiding the working information to user. In the process, we declare class members as private so that no other class can access these data members. It is accessible only within the class.'''"
   ]
  },
  {
   "cell_type": "code",
   "execution_count": null,
   "id": "d0efc0de",
   "metadata": {},
   "outputs": [],
   "source": [
    "#14. Create a Python class called `Employee` with private attributes for salary (`__salary`) and employee ID (`__employee_id`). Provide a method to calculate yearly bonuses.\n",
    "class Employee:\n",
    "    __salary=20000\n",
    "    __employee_id=2356\n",
    "    def yearly_bonuses(self):\n",
    "        self.__salary=self.__salary*10/100+self.__salary\n",
    "        return self.__salary\n",
    "e=Employee()\n",
    "e.yearly_bonuses()"
   ]
  },
  {
   "cell_type": "code",
   "execution_count": null,
   "id": "8352e9fd",
   "metadata": {},
   "outputs": [],
   "source": [
    "#15. Discuss the use of accessors and mutators in encapsulation. How do they help maintain control over attribute access?\n",
    "\n",
    "'''Accessor Method: This method is used to access the state of the object i.e, the data hidden \n",
    "in the object can be accessed from this method. However, this method cannot change the state of the object, it can only access the data hidden. We can name these methods with the word get. \n",
    " Mutator Method: This method is used to mutate/modify the state of an object i.e, \n",
    " it alters the hidden value of the data variable. It can set the value of a variable instantly to a new value. This method is also called as update method. Moreover, we can name these methods with the word set. '''"
   ]
  },
  {
   "cell_type": "code",
   "execution_count": null,
   "id": "831f6387",
   "metadata": {},
   "outputs": [],
   "source": [
    "'''16. What are the potential drawbacks or disadvantages of using encapsulation in Python?\n",
    "17. Create a Python class for a library system that encapsulates book information, including titles, authors,\n",
    "and availability status.\n",
    "18. Explain how encapsulation enhances code reusability and modularity in Python programs.\n",
    "19. Describe the concept of information hiding in encapsulation. Why is it essential in software development?\n",
    "20. Create a Python class called `Customer` with private attributes for customer details like name, address,\n",
    "and contact information. Implement encapsulation to ensure data integrity and security.'''"
   ]
  },
  {
   "cell_type": "code",
   "execution_count": null,
   "id": "3a71f9bf",
   "metadata": {},
   "outputs": [],
   "source": [
    "#16.\n",
    "'''code size increases drastically because we write getters and setters for accessing the data so its increases. '''\n",
    "'''execution times is also increases because code size is increases'''"
   ]
  },
  {
   "cell_type": "code",
   "execution_count": null,
   "id": "a65fe6f9",
   "metadata": {},
   "outputs": [],
   "source": [
    "#17.\n",
    "class Library:\n",
    "    __books=['dsa','data science','dbms','programming']\n",
    "    __authors=['radha krishnam','james borling','johnson peter']\n",
    "    __books_authors=dict(zip(__books,__authors))\n",
    "    def avail(self,book):\n",
    "        try:\n",
    "            self.__books_authors.pop(book)\n",
    "            return f' {book} is now available to you'\n",
    "        except Exception:\n",
    "            print('book is not available')\n",
    "dsa=Library()\n",
    "dsa.avail('dsa')\n",
    "dsa.avail('dsa')"
   ]
  },
  {
   "cell_type": "code",
   "execution_count": null,
   "id": "e0f5523b",
   "metadata": {},
   "outputs": [],
   "source": [
    "#18.explain how encapsulation increases modularity and reusability of python program\n",
    "#Modularity and Reusability: By bundling related data and functionality into classes, \n",
    "#we achieve modularity, making it simple to understand, refactor, and reuse code. \n",
    "#This clean organization allows us to reuse classes or parts of code across different applications or modules effectively"
   ]
  },
  {
   "cell_type": "code",
   "execution_count": null,
   "id": "165e2cf9",
   "metadata": {},
   "outputs": [],
   "source": [
    "#19.\n",
    "'''information hiding is means hide the details from the users is called information hiding . its acieving by access modifiers\n",
    ". there are 4 types of access modifiers in python is public,protected,private,default. we can use in this abstraction and encapuslation in programming'''"
   ]
  },
  {
   "cell_type": "code",
   "execution_count": null,
   "id": "e6192be2",
   "metadata": {},
   "outputs": [],
   "source": [
    "'''20. Create a Python class called `Customer` with private attributes for customer details like name, address,\n",
    "and contact information. Implement encapsulation to ensure data integrity and security.'''\n",
    "class Customer:\n",
    "    __name=''\n",
    "    __address=''\n",
    "    __contact_info=''\n",
    "    \n",
    "    @property\n",
    "    def name(self):\n",
    "        return self.__name\n",
    "    @property\n",
    "    def address(self):\n",
    "        return self.__address\n",
    "    @property\n",
    "    def contactInfo(self):\n",
    "        return self.__contact_info\n",
    "    \n",
    "    @name.setter\n",
    "    def setname(self,name):\n",
    "        self.__name=name\n",
    "    @name.getter\n",
    "    def getname(self):\n",
    "        return self.__name\n",
    "    \n",
    "    @address.setter\n",
    "    def setaddress(self,address):\n",
    "        self.__address=address\n",
    "    @address.getter\n",
    "    def getaddress(self):\n",
    "        return self.__address\n",
    "    \n",
    "    @contactInfo.setter\n",
    "    def setcontactInfo(self,contact):\n",
    "        self.__contact_info=contact\n",
    "    @contactInfo.getter\n",
    "    def getcontactInfo(self):\n",
    "        return self.__contact_info\n",
    "    \n",
    "lucky=Customer()\n",
    "lucky.setname='lucky'\n",
    "lucky.setaddress='delhi'\n",
    "lucky.setcontactInfo=456\n",
    "print(lucky.getname)\n",
    "print(lucky.getaddress)\n",
    "print(lucky.getcontactInfo)"
   ]
  },
  {
   "cell_type": "code",
   "execution_count": null,
   "id": "09cd10d4",
   "metadata": {},
   "outputs": [],
   "source": [
    "'''Polymorphism:\n",
    "1. What is polymorphism in Python? Explain how it is related to object-oriented programming.\n",
    "2. Describe the difference between compile-time polymorphism and runtime polymorphism in Python.\n",
    "3. Create a Python class hierarchy for shapes (e.g., circle, square, triangle) and demonstrate polymorphism\n",
    "through a common method, such as `calculate_area()`.\n",
    "4. Explain the concept of method overriding in polymorphism. Provide an example.\n",
    "5. How is polymorphism different from method overloading in Python? Provide examples for both.\n",
    "6. Create a Python class called `Animal` with a method `speak()`. Then, create child classes like `Dog`, `Cat`, and `Bird`, each with their own `speak()` method. Demonstrate polymorphism by calling the `speak()` method\n",
    "on objects of different subclasses.\n",
    "7. Discuss the use of abstract methods and classes in achieving polymorphism in Python. Provide an example\n",
    "using the `abc` module.\n",
    "8. Create a Python class hierarchy for a vehicle system (e.g., car, bicycle, boat) and implement a polymorphic `start()` method that prints a message specific to each vehicle type.\n",
    "9. Explain the significance of the `isinstance()` and `issubclass()` functions in Python polymorphism.\n",
    "10. What is the role of the `@abstractmethod` decorator in achieving polymorphism in Python? Provide an\n",
    "example.\n",
    "11. Create a Python class called `Shape` with a polymorphic method `area()` that calculates the area of different shapes (e.g., circle, rectangle, triangle).\n",
    "12. Discuss the benefits of polymorphism in terms of code reusability and flexibility in Python programs.\n",
    "13. Explain the use of the `super()` function in Python polymorphism. How does it help call methods of parent\n",
    "classes?\n",
    "14. Create a Python class hierarchy for a banking system with various account types (e.g., savings, checking, credit card) and demonstrate polymorphism by implementing a common `withdraw()` method.\n",
    "15. Describe the concept of operator overloading in Python and how it relates to polymorphism. Provide\n",
    "examples using operators like `+` and `*`.\n",
    "16. What is dynamic polymorphism, and how is it achieved in Python?\n",
    "17. Create a Python class hierarchy for employees in a company (e.g., manager, developer, designer) and implement polymorphism through a common `calculate_salary()` method.\n",
    "18. Discuss the concept of function pointers and how they can be used to achieve polymorphism in Python.\n",
    "19. Explain the role of interfaces and abstract classes in polymorphism, drawing comparisons between them.\n",
    "20.20. Create a Python class for a zoo simulation, demonstrating polymorphism with different animal types (e.g., mammals, birds, reptiles) and their behavior (e.g., eating, sleeping, making sounds).'''"
   ]
  },
  {
   "cell_type": "code",
   "execution_count": null,
   "id": "c56e1e2f",
   "metadata": {},
   "outputs": [],
   "source": [
    "'''1. What is polymorphism in Python? Explain how it is related to object-oriented programming.\n",
    "2. Describe the difference between compile-time polymorphism and runtime polymorphism in Python.\n",
    "3. Create a Python class hierarchy for shapes (e.g., circle, square, triangle) and demonstrate polymorphism\n",
    "through a common method, such as `calculate_area()`.\n",
    "4. Explain the concept of method overriding in polymorphism. Provide an example.\n",
    "5. How is polymorphism different from method overloading in Python? Provide examples for both.'''"
   ]
  },
  {
   "cell_type": "code",
   "execution_count": null,
   "id": "5c8e2b96",
   "metadata": {},
   "outputs": [],
   "source": [
    "#1.\n",
    "'''polymorphism menas many forms . its the ability to display the messages in many forms and in technical way ability to display\n",
    "the objects in many forms is called polymorphism'''\n",
    "'''its the main crucial concept of object oriented programming becuase its provide reusabilit of code and decreases no of lines of code'''\n"
   ]
  },
  {
   "cell_type": "code",
   "execution_count": null,
   "id": "25756775",
   "metadata": {},
   "outputs": [],
   "source": [
    "#2.\n",
    "'''there are two types of polymorphism runtime and compile time , runtime polymorphism achieved by method overriding and compile\n",
    "time polymorphism is achieving by method overloading.'''"
   ]
  },
  {
   "cell_type": "code",
   "execution_count": 50,
   "id": "62f1d5a9",
   "metadata": {},
   "outputs": [
    {
     "name": "stdout",
     "output_type": "stream",
     "text": [
      "28.26\n",
      "16\n"
     ]
    },
    {
     "data": {
      "text/plain": [
       "6.0"
      ]
     },
     "execution_count": 50,
     "metadata": {},
     "output_type": "execute_result"
    }
   ],
   "source": [
    "#3.\n",
    "class Shapes:\n",
    "    def calculate_area(self):\n",
    "        pass\n",
    "class Circle(Shapes):\n",
    "    def calculate_area(self,radius):\n",
    "        return 3.14*radius**2\n",
    "class Square(Shapes):\n",
    "    def calculate_area(self,a):\n",
    "        return a**2\n",
    "class Triangle(Shapes):\n",
    "    def calculate_area(self,base,height):\n",
    "        return 1/2*base*height\n",
    "c=Circle()\n",
    "print(c.calculate_area(3))\n",
    "a=Square()\n",
    "print(a.calculate_area(4))\n",
    "b=Triangle()\n",
    "b.calculate_area(4,3)"
   ]
  },
  {
   "cell_type": "code",
   "execution_count": null,
   "id": "f210af02",
   "metadata": {},
   "outputs": [],
   "source": [
    "#4.\n",
    "'''method overriding is the concept in which methods name and parameters are same but its child methods declared in child class'''"
   ]
  },
  {
   "cell_type": "code",
   "execution_count": 5,
   "id": "1d1d7378",
   "metadata": {},
   "outputs": [
    {
     "name": "stdout",
     "output_type": "stream",
     "text": [
      "price of the house is 1000000000 and area of the house is 100\n",
      "28.26\n",
      "16\n"
     ]
    },
    {
     "data": {
      "text/plain": [
       "6.0"
      ]
     },
     "execution_count": 5,
     "metadata": {},
     "output_type": "execute_result"
    }
   ],
   "source": [
    "#5.\n",
    "from multipledispatch import dispatch\n",
    "'''Polymorphism is the process to define more than one body for functions/methods with same name. \n",
    "Overloading IS a type of polymorphism, where the signature part must be different'''\n",
    "#below example is the method overloading\n",
    "class A:\n",
    "    @dispatch(int,int)\n",
    "    def house(self,price,area):\n",
    "        print('price of the house is {0} and area of the house is {1}'.format(price,area))\n",
    "    @dispatch(int,int,str)\n",
    "    def house(self,price,area,location):\n",
    "        print('price of the house is {0} and area of the house is {1} and location is {2}'.format(price,area,location))\n",
    "a=A()\n",
    "a.house(1000000000,100)\n",
    "#polymorphism\n",
    "class Shapes:\n",
    "    def calculate_area(self):\n",
    "        pass\n",
    "class Circle(Shapes):\n",
    "    def calculate_area(self,radius):\n",
    "        return 3.14*radius**2\n",
    "class Square(Shapes):\n",
    "    def calculate_area(self,a):\n",
    "        return a**2\n",
    "class Triangle(Shapes):\n",
    "    def calculate_area(self,base,height):\n",
    "        return 1/2*base*height\n",
    "c=Circle()\n",
    "print(c.calculate_area(3))\n",
    "a=Square()\n",
    "print(a.calculate_area(4))\n",
    "b=Triangle()\n",
    "b.calculate_area(4,3)"
   ]
  },
  {
   "cell_type": "code",
   "execution_count": 6,
   "id": "c2d56687",
   "metadata": {},
   "outputs": [
    {
     "data": {
      "text/plain": [
       "'6. Create a Python class called `Animal` with a method `speak()`. Then, create child classes like `Dog`, `Cat`, and `Bird`, each with their own `speak()` method. Demonstrate polymorphism by calling the `speak()` method\\non objects of different subclasses.\\n7. Discuss the use of abstract methods and classes in achieving polymorphism in Python. Provide an example\\nusing the `abc` module.\\n8. Create a Python class hierarchy for a vehicle system (e.g., car, bicycle, boat) and implement a polymorphic `start()` method that prints a message specific to each vehicle type.\\n9. Explain the significance of the `isinstance()` and `issubclass()` functions in Python polymorphism.\\n10. What is the role of the `@abstractmethod` decorator in achieving polymorphism in Python? Provide an\\nexample.'"
      ]
     },
     "execution_count": 6,
     "metadata": {},
     "output_type": "execute_result"
    }
   ],
   "source": [
    "'''6. Create a Python class called `Animal` with a method `speak()`. Then, create child classes like `Dog`, `Cat`, and `Bird`, each with their own `speak()` method. Demonstrate polymorphism by calling the `speak()` method\n",
    "on objects of different subclasses.\n",
    "7. Discuss the use of abstract methods and classes in achieving polymorphism in Python. Provide an example\n",
    "using the `abc` module.\n",
    "8. Create a Python class hierarchy for a vehicle system (e.g., car, bicycle, boat) and implement a polymorphic `start()` method that prints a message specific to each vehicle type.\n",
    "9. Explain the significance of the `isinstance()` and `issubclass()` functions in Python polymorphism.\n",
    "10. What is the role of the `@abstractmethod` decorator in achieving polymorphism in Python? Provide an\n",
    "example.'''"
   ]
  },
  {
   "cell_type": "code",
   "execution_count": 8,
   "id": "52feb39c",
   "metadata": {},
   "outputs": [
    {
     "name": "stdout",
     "output_type": "stream",
     "text": [
      "dog is speaking\n",
      "None\n",
      "cat is speaking\n",
      "None\n",
      "bird is speaking\n",
      "None\n"
     ]
    }
   ],
   "source": [
    "#6.\n",
    "class Animal:\n",
    "    def speak(self):\n",
    "        pass\n",
    "class Dog(Animal):\n",
    "    def speak(self):\n",
    "        print('dog is speaking')\n",
    "class Cat(Animal):\n",
    "    def speak(self):\n",
    "        print('cat is speaking')\n",
    "class Bird(Animal):\n",
    "    def speak(self):\n",
    "        print('bird is speaking')\n",
    "d=Dog()\n",
    "print(d.speak())\n",
    "c=Cat()\n",
    "print(c.speak())\n",
    "b=Bird()\n",
    "print(b.speak())"
   ]
  },
  {
   "cell_type": "code",
   "execution_count": 13,
   "id": "47b53b4f",
   "metadata": {},
   "outputs": [
    {
     "name": "stdout",
     "output_type": "stream",
     "text": [
      "bird is speaking\n"
     ]
    },
    {
     "data": {
      "text/plain": [
       "'So, in the above code we see abstraction small exmaple. Its helpful for achieving polymorphism becuase its display the messges\\nin many form by inheriting the functions and implemented differently'"
      ]
     },
     "execution_count": 13,
     "metadata": {},
     "output_type": "execute_result"
    }
   ],
   "source": [
    "#7.\n",
    "'''abstract method is like the skelleton of the class and that skellton is implemented in its child classes'''\n",
    "from abc import ABC,abstractmethod\n",
    "class Animal(ABC):\n",
    "    @abstractmethod\n",
    "    def speak(self):\n",
    "        pass\n",
    "        \n",
    "class Bird(Animal):\n",
    "    def speak(self):\n",
    "        print('bird is speaking')\n",
    "b=Bird()\n",
    "b.speak()\n",
    "'''So, in the above code we see abstraction small exmaple. Its helpful for achieving polymorphism becuase its display the messges\n",
    "in many form by inheriting the functions and implemented differently'''"
   ]
  },
  {
   "cell_type": "code",
   "execution_count": 12,
   "id": "52b88423",
   "metadata": {},
   "outputs": [
    {
     "name": "stdout",
     "output_type": "stream",
     "text": [
      "car is starting\n",
      "bicycle is starting\n",
      "boat is starting\n"
     ]
    }
   ],
   "source": [
    "#8. Create a Python class hierarchy for a vehicle system (e.g., car, bicycle, boat) and implement a polymorphic `start()` method that prints a message specific to each vehicle type.\n",
    "class Vehicle:\n",
    "    def start(self):\n",
    "        pass\n",
    "class Car(Vehicle):\n",
    "    def start(self):\n",
    "        print('car is starting')\n",
    "class Bicycle(Vehicle):\n",
    "    def start(self):\n",
    "        print('bicycle is starting')\n",
    "class Boat(Vehicle):\n",
    "    def start(self):\n",
    "        print('boat is starting')\n",
    "c=Car()\n",
    "b=Bicycle()\n",
    "b1=Boat()\n",
    "c.start()\n",
    "b.start()\n",
    "b1.start()"
   ]
  },
  {
   "cell_type": "code",
   "execution_count": 20,
   "id": "4eef21c0",
   "metadata": {},
   "outputs": [
    {
     "data": {
      "text/plain": [
       "'abstract method decorator is used for convert the method into the abstract method and its achieving polymorphism by inherits this method by its child class and then its child class implementd'"
      ]
     },
     "execution_count": 20,
     "metadata": {},
     "output_type": "execute_result"
    }
   ],
   "source": [
    "'''9. Explain the significance of the `isinstance()` and `issubclass()` functions in Python polymorphism.\n",
    "10. What is the role of the `@abstractmethod` decorator in achieving polymorphism in Python? Provide an\n",
    "example.'''\n",
    "#9. isinstance:- its used for check the object is a instance of that class or not\n",
    "'''#issubclass:- its used for check the object is the child class of its that bases class or not'''\n",
    "#10.\n",
    "'''abstract method decorator is used for convert the method into the abstract method and its achieving polymorphism by inherits this method by its child class and then its child class implementd'''"
   ]
  },
  {
   "cell_type": "code",
   "execution_count": 21,
   "id": "0892ef82",
   "metadata": {},
   "outputs": [
    {
     "data": {
      "text/plain": [
       "'11. Create a Python class called `Shape` with a polymorphic method `area()` that calculates the area of different shapes (e.g., circle, rectangle, triangle).\\n12. Discuss the benefits of polymorphism in terms of code reusability and flexibility in Python programs.\\n13. Explain the use of the `super()` function in Python polymorphism. How does it help call methods of parent\\nclasses?\\n14. Create a Python class hierarchy for a banking system with various account types (e.g., savings, checking, credit card) and demonstrate polymorphism by implementing a common `withdraw()` method.\\n15. Describe the concept of operator overloading in Python and how it relates to polymorphism. Provide\\nexamples using operators like `+` and `*`.\\n16. What is dynamic polymorphism, and how is it achieved in Python?\\n17. Create a Python class hierarchy for employees in a company (e.g., manager, developer, designer) and implement polymorphism through a common `calculate_salary()` method.\\n18. Discuss the concept of function pointers and how they can be used to achieve polymorphism in Python.\\n19. Explain the role of interfaces and abstract classes in polymorphism, drawing comparisons between them.\\n20.20. Create a Python class for a zoo simulation, demonstrating polymorphism with different animal types (e.g., mammals, birds, reptiles) and their behavior (e.g., eating, sleeping, making sounds).'"
      ]
     },
     "execution_count": 21,
     "metadata": {},
     "output_type": "execute_result"
    }
   ],
   "source": [
    "'''11. Create a Python class called `Shape` with a polymorphic method `area()` that calculates the area of different shapes (e.g., circle, rectangle, triangle).\n",
    "12. Discuss the benefits of polymorphism in terms of code reusability and flexibility in Python programs.\n",
    "13. Explain the use of the `super()` function in Python polymorphism. How does it help call methods of parent\n",
    "classes?\n",
    "14. Create a Python class hierarchy for a banking system with various account types (e.g., savings, checking, credit card) and demonstrate polymorphism by implementing a common `withdraw()` method.\n",
    "15. Describe the concept of operator overloading in Python and how it relates to polymorphism. Provide\n",
    "examples using operators like `+` and `*`.\n",
    "16. What is dynamic polymorphism, and how is it achieved in Python?\n",
    "17. Create a Python class hierarchy for employees in a company (e.g., manager, developer, designer) and implement polymorphism through a common `calculate_salary()` method.\n",
    "18. Discuss the concept of function pointers and how they can be used to achieve polymorphism in Python.\n",
    "19. Explain the role of interfaces and abstract classes in polymorphism, drawing comparisons between them.\n",
    "20.20. Create a Python class for a zoo simulation, demonstrating polymorphism with different animal types (e.g., mammals, birds, reptiles) and their behavior (e.g., eating, sleeping, making sounds).'''"
   ]
  },
  {
   "cell_type": "code",
   "execution_count": 2,
   "id": "d3b5ffb6",
   "metadata": {},
   "outputs": [
    {
     "name": "stdout",
     "output_type": "stream",
     "text": [
      "28.26\n",
      "15\n",
      "6.0\n"
     ]
    }
   ],
   "source": [
    "#11\n",
    "class Shape:\n",
    "    def area(self):\n",
    "        pass\n",
    "class Circle(Shape):\n",
    "    def area(self,radius):\n",
    "        return 3.14*radius**2\n",
    "class Rectangle(Shape):\n",
    "    def area(self,length,width):\n",
    "        return length*width\n",
    "class triangle(Shape):\n",
    "    def area(self,base,height):\n",
    "        return 1/2*base*height\n",
    "c=Circle()\n",
    "print(c.area(3))\n",
    "r=Rectangle()\n",
    "print(r.area(3,5))\n",
    "t=triangle()\n",
    "print(t.area(3,4))"
   ]
  },
  {
   "cell_type": "code",
   "execution_count": 3,
   "id": "82e364f5",
   "metadata": {},
   "outputs": [
    {
     "data": {
      "text/plain": [
       "'code reusability is the use of the methods again and again is called code reusability . its achieving by polymorphism , inheritance'"
      ]
     },
     "execution_count": 3,
     "metadata": {},
     "output_type": "execute_result"
    }
   ],
   "source": [
    "#12.\n",
    "'''code reusability is the use of the methods again and again is called code reusability . its achieving by polymorphism , inheritance'''"
   ]
  },
  {
   "cell_type": "code",
   "execution_count": 15,
   "id": "416a4027",
   "metadata": {},
   "outputs": [
    {
     "name": "stdout",
     "output_type": "stream",
     "text": [
      "vehicle is starting\n",
      "vehicle is starting\n"
     ]
    }
   ],
   "source": [
    "#13.\n",
    "'''with the help of super() we can access the attributes of parent class'''\n",
    "class Vehicle:\n",
    "    def start1(self):\n",
    "        print('vehicle is starting')\n",
    "class Car(Vehicle):\n",
    "    def start(self):\n",
    "        super().start1()\n",
    "class Boat(Vehicle):\n",
    "    def start(self):\n",
    "        super().start1()\n",
    "c=Car()\n",
    "\n",
    "b1=Boat()\n",
    "c.start()\n",
    "\n",
    "b1.start()"
   ]
  },
  {
   "cell_type": "code",
   "execution_count": 21,
   "id": "9ed623ae",
   "metadata": {},
   "outputs": [
    {
     "name": "stdout",
     "output_type": "stream",
     "text": [
      "3000\n",
      "account no is 2032\n",
      "display is 3000\n",
      "None\n",
      "money withdrawed\n",
      "2000\n",
      "account no is 2032\n",
      "display is 2000\n",
      "None\n"
     ]
    }
   ],
   "source": [
    "#14.\n",
    "'''14. Create a Python class hierarchy for a banking system with various account types (e.g., savings, checking, credit card) and \n",
    "demonstrate polymorphism by implementing a common `withdraw()` method.'''\n",
    "\n",
    "class Saving:\n",
    "    __account_no=2032\n",
    "    __balance=3000\n",
    "    def withdraw(self,money):\n",
    "        self.__balance=self.__balance-money\n",
    "        return 'money withdrawed'\n",
    "    def check_balance(self):\n",
    "        return self.__balance\n",
    "    def display(self):\n",
    "        print('account no is',self.__account_no)\n",
    "        print('display is',self.__balance)\n",
    "class Checking(Saving):\n",
    "    def withdraw1(self):\n",
    "        super().withdraw(1000)\n",
    "    def check_balance1(self):\n",
    "        return super().check_balance()\n",
    "    def display1(self):\n",
    "        super().display()\n",
    "\n",
    "class Credit(Saving):\n",
    "    def withdraw2(self):\n",
    "        return super().withdraw(1000)\n",
    "    def check_balance2(self):\n",
    "        return super().check_balance()\n",
    "    def display2(self):\n",
    "        super().display()\n",
    "\n",
    "c=Checking()\n",
    "print(c.check_balance1())\n",
    "print(c.display1())\n",
    "cred=Credit()\n",
    "print(cred.withdraw2())\n",
    "print(cred.check_balance2())\n",
    "print(cred.display2())"
   ]
  },
  {
   "cell_type": "code",
   "execution_count": 34,
   "id": "0c662b54",
   "metadata": {},
   "outputs": [
    {
     "name": "stdout",
     "output_type": "stream",
     "text": [
      "7\n",
      "12\n",
      "7\n",
      "12\n"
     ]
    },
    {
     "data": {
      "text/plain": [
       "'In the above code we use + operator or add operator in multiple ways so its called operator overloading and polymorphism'"
      ]
     },
     "execution_count": 34,
     "metadata": {},
     "output_type": "execute_result"
    }
   ],
   "source": [
    "#15.\n",
    "'''Operator Overloading means giving extended meaning beyond their predefined operational meaning. For example operator + is used to add two integers as well as join two strings and merge two lists. It is achievable because ‘+’ operator is overloaded by int class and str class. You might have noticed that the same built-in operator or function shows different \n",
    "behavior for objects of different classes, this is called Operator Overloading. '''\n",
    "class Add:\n",
    "    def __init__(self,a):\n",
    "        self.a=a\n",
    "    def __add__(self,other):\n",
    "        return self.a+other.a\n",
    "    def __mul__(self,other):\n",
    "        return self.a*other.a\n",
    "a=Add(4)\n",
    "b=Add(3)\n",
    "print(a+b)\n",
    "print(a*b)\n",
    "print(a.__add__(b))\n",
    "print(a.__mul__(b))\n",
    "'''In the above code we use + operator or add operator in multiple ways so its called operator overloading and polymorphism'''"
   ]
  },
  {
   "cell_type": "code",
   "execution_count": 35,
   "id": "abf61d29",
   "metadata": {},
   "outputs": [
    {
     "data": {
      "text/plain": [
       "'dynamic polymorphism means . we used methods in many or flexible ways like method overriden . we implement same method in different ways'"
      ]
     },
     "execution_count": 35,
     "metadata": {},
     "output_type": "execute_result"
    }
   ],
   "source": [
    "#16.\n",
    "'''dynamic polymorphism means . we used methods in many or flexible ways like method overriden . we implement same method in different ways'''"
   ]
  },
  {
   "cell_type": "code",
   "execution_count": 37,
   "id": "75492577",
   "metadata": {},
   "outputs": [
    {
     "data": {
      "text/plain": [
       "'17. Create a Python class hierarchy for employees in a company (e.g., manager, developer, designer) and implement polymorphism through a common `calculate_salary()` method.\\n18. Discuss the concept of function pointers and how they can be used to achieve polymorphism in Python.\\n19. Explain the role of interfaces and abstract classes in polymorphism, drawing comparisons between them.\\n20.20. Create a Python class for a zoo simulation, demonstrating polymorphism with different animal types (e.g., mammals, birds, reptiles) and their behavior (e.g., eating, sleeping, making sounds).'"
      ]
     },
     "execution_count": 37,
     "metadata": {},
     "output_type": "execute_result"
    }
   ],
   "source": [
    "'''17. Create a Python class hierarchy for employees in a company (e.g., manager, developer, designer) and implement polymorphism through a common `calculate_salary()` method.\n",
    "18. Discuss the concept of function pointers and how they can be used to achieve polymorphism in Python.\n",
    "19. Explain the role of interfaces and abstract classes in polymorphism, drawing comparisons between them.\n",
    "20.20. Create a Python class for a zoo simulation, demonstrating polymorphism with different animal types (e.g., mammals, birds, reptiles) and their behavior (e.g., eating, sleeping, making sounds).'''"
   ]
  },
  {
   "cell_type": "code",
   "execution_count": 1,
   "id": "abbee91b",
   "metadata": {},
   "outputs": [
    {
     "name": "stdout",
     "output_type": "stream",
     "text": [
      "45000\n",
      "17000\n"
     ]
    },
    {
     "data": {
      "text/plain": [
       "305000"
      ]
     },
     "execution_count": 1,
     "metadata": {},
     "output_type": "execute_result"
    }
   ],
   "source": [
    "#17\n",
    "class employees:\n",
    "    def calculate_salary(self):\n",
    "        pass\n",
    "class Manager(employees):\n",
    "    def calculate_salary(self,hra,da,allowance):\n",
    "        self.salary=hra+da+allowance\n",
    "        return self.salary\n",
    "class Devloper(employees):\n",
    "    def calculate_salary(self,hra,da,allowance):\n",
    "        self.salary=hra+da+allowance\n",
    "        return self.salary\n",
    "class designer(employees):\n",
    "    def calculate_salary(self,hra,da,allowance):\n",
    "        self.salary=hra+da+allowance\n",
    "        return self.salary\n",
    "radhika=Manager()\n",
    "print(radhika.calculate_salary(2000,3000,40000))\n",
    "vikas=Devloper()\n",
    "print(vikas.calculate_salary(4000,3000,10000))\n",
    "sahu=designer()\n",
    "sahu.calculate_salary(3000,2000,300000)"
   ]
  },
  {
   "cell_type": "code",
   "execution_count": 2,
   "id": "6cd551a5",
   "metadata": {},
   "outputs": [
    {
     "data": {
      "text/plain": [
       "'In this we import other modules and call the other module function '"
      ]
     },
     "execution_count": 2,
     "metadata": {},
     "output_type": "execute_result"
    }
   ],
   "source": [
    "#18. Discuss the concept of function pointers and how they can be used to achieve polymorphism in Python.\n",
    "\n",
    "#function pointers\n",
    "'''The variable which points to the function is called function pointer'''\n",
    "'''In this we import other modules and call the other module function '''\n"
   ]
  },
  {
   "cell_type": "code",
   "execution_count": 9,
   "id": "8adf88e8",
   "metadata": {},
   "outputs": [
    {
     "name": "stdout",
     "output_type": "stream",
     "text": [
      "Overwriting another.py\n"
     ]
    }
   ],
   "source": [
    "%%writefile another.py\n",
    "def greet(name):\n",
    "    return f'hello {name}'\n",
    "def add(a,b):\n",
    "    return a+b"
   ]
  },
  {
   "cell_type": "code",
   "execution_count": 10,
   "id": "9ef3eeb6",
   "metadata": {},
   "outputs": [
    {
     "name": "stdout",
     "output_type": "stream",
     "text": [
      "hello vishes\n"
     ]
    }
   ],
   "source": [
    "import another\n",
    "\n",
    "'''func=another.greet('arpan')\n",
    "print(func)'''\n",
    "dict_func={'another.greet':another.greet,'another.add':another.add}\n",
    "print(dict_func['another.greet']('vishes'))\n"
   ]
  },
  {
   "cell_type": "code",
   "execution_count": 11,
   "id": "e6046732",
   "metadata": {},
   "outputs": [
    {
     "data": {
      "text/plain": [
       "'abstract class have abstract methods and its the skeleton of the class which inherits by child class.'"
      ]
     },
     "execution_count": 11,
     "metadata": {},
     "output_type": "execute_result"
    }
   ],
   "source": [
    "#19 interfaces and abstract classes\n",
    "\"\"\"interfaces is the blueprint of class . its have abstract methods and child class implements these abstract methods\"\"\"\n",
    "\"\"\"abstract class have abstract methods and its the skeleton of the class which inherits by child class.\"\"\""
   ]
  },
  {
   "cell_type": "code",
   "execution_count": 22,
   "id": "e799f057",
   "metadata": {},
   "outputs": [
    {
     "name": "stdout",
     "output_type": "stream",
     "text": [
      "mammals is eating\n",
      "mammals is sleeping\n",
      "mammals is making_sounds\n",
      "reptiles is eating\n",
      "reptiles is sleeping\n",
      "reptiles is making_sounds\n",
      "birds is eating\n",
      "birds is sleeping\n",
      "birds is making_sounds\n"
     ]
    }
   ],
   "source": [
    "#20.20. Create a Python class for a zoo simulation, demonstrating polymorphism with different animal types \n",
    "#(e.g., mammals, birds, reptiles) and \n",
    "#their behavior (e.g., eating, sleeping, making sounds)\n",
    "class Animals:\n",
    "    def eating(self,animal):\n",
    "        print('{0} is eating'.format(animal))\n",
    "    def sleeping(self,animal):\n",
    "        print('{0} is sleeping'.format(animal))\n",
    "    def making_sounds(self,animal):\n",
    "        print('{0} is making_sounds'.format(animal))\n",
    "class Mammals(Animals):\n",
    "    def eating1(self):\n",
    "        super().eating('mammals')\n",
    "    def sleeping1(self):\n",
    "        super().sleeping('mammals')\n",
    "    def making_sounds1(self):\n",
    "        super().making_sounds('mammals')\n",
    "class Reptiles(Animals):\n",
    "    def eating2(self):\n",
    "        super().eating('reptiles')\n",
    "    def sleeping2(self):\n",
    "        super().sleeping('reptiles')\n",
    "    def making_sounds2(self):\n",
    "        super().making_sounds('reptiles')\n",
    "class Birds(Animals):\n",
    "    def eating3(self):\n",
    "        super().eating('birds')\n",
    "    def sleeping3(self):\n",
    "        super().sleeping('birds')\n",
    "    def making_sounds3(self):\n",
    "        super().making_sounds('birds')\n",
    "m=Mammals()\n",
    "m.eating1()\n",
    "m.sleeping1()\n",
    "m.making_sounds1()\n",
    "r=Reptiles()\n",
    "r.eating2()\n",
    "r.sleeping2()\n",
    "r.making_sounds2()\n",
    "m=Birds()\n",
    "m.eating3()\n",
    "m.sleeping3()\n",
    "m.making_sounds3()"
   ]
  },
  {
   "cell_type": "raw",
   "id": "2ec775b4",
   "metadata": {},
   "source": [
    "Abstraction:\n",
    "1. What is abstraction in Python, and how does it relate to object-oriented programming?\n",
    "2. Describe the benefits of abstraction in terms of code organization and complexity reduction.\n",
    "3. Create a Python class called `Shape` with an abstract method `calculate_area()`. Then, create child classes (e.g., `Circle`, `Rectangle`) that implement the `calculate_area()` method. Provide an example of\n",
    "using these classes.\n",
    "4. Explain the concept of abstract classes in Python and how they are defined using the `abc` module. Provide\n",
    "an example.\n",
    "5. How do abstract classes differ from regular classes in Python? Discuss their use cases.\n",
    "6. Create a Python class for a bank account and demonstrate abstraction by hiding the account balance and\n",
    "providing methods to deposit and withdraw funds.\n",
    "7. Discuss the concept of interface classes in Python and their role in achieving abstraction.\n",
    "8. Create a Python class hierarchy for animals and implement abstraction by defining common methods (e.g., `eat()`, `sleep()`) in an abstract base class.\n",
    "9. Explain the significance of encapsulation in achieving abstraction. Provide examples.\n",
    "10. What is the purpose of abstract methods, and how do they enforce abstraction in Python classes?\n",
    "11. Create a Python class for a vehicle system and demonstrate abstraction by defining common methods (e.g., `start()`, `stop()`) in an abstract base class.\n",
    "12. Describe the use of abstract properties in Python and how they can be employed in abstract classes.\n",
    "13. Create a Python class hierarchy for employees in a company (e.g., manager, developer, designer) and implement abstraction by defining a common `get_salary()` method.\n",
    "14. Discuss the differences between abstract classes and concrete classes in Python, including their\n",
    "instantiation.\n",
    "15. Explain the concept of abstract data types (ADTs) and their role in achieving abstraction in Python.\n",
    "16. Create a Python class for a computer system, demonstrating abstraction by defining common methods (e.g., `power_on()`, `shutdown()`) in an abstract base class.\n",
    "17. Discuss the benefits of using abstraction in large-scale software development projects.\n",
    "18. Explain how abstraction enhances code reusability and modularity in Python programs.\n",
    "19. Create a Python class for a library system, implementing abstraction by defining common methods (e.g., `add_book()`, `borrow_book()`) in an abstract base class.\n",
    "20. Describe the concept of method abstraction in Python and how it relates to polymorphism."
   ]
  },
  {
   "cell_type": "code",
   "execution_count": 1,
   "id": "48ccc996",
   "metadata": {},
   "outputs": [
    {
     "data": {
      "text/plain": [
       "'abstraction is the highlighting the initial details and hiding the implementation. Its one of the concept in object oriented programming.\\n\\nIn object-oriented programming, abstraction is one of three central principles (along with encapsulation and inheritance). \\nThrough the process of abstraction, a programmer hides all but the  relevant data about an object in order to reduce complexity and increase efficiency.'"
      ]
     },
     "execution_count": 1,
     "metadata": {},
     "output_type": "execute_result"
    }
   ],
   "source": [
    "#1.\n",
    "'''abstraction is the highlighting the initial details and hiding the implementation. Its one of the concept in object oriented programming.\n",
    "\n",
    "In object-oriented programming, abstraction is one of three central principles (along with encapsulation and inheritance). \n",
    "Through the process of abstraction, a programmer hides all but the  relevant data about an object in order to reduce complexity and increase efficiency.'''\n"
   ]
  },
  {
   "cell_type": "code",
   "execution_count": 2,
   "id": "a959f3d8",
   "metadata": {},
   "outputs": [
    {
     "data": {
      "text/plain": [
       "'abstraction is the one of the concept in object oriented programming. Its simplifies the complexity of code because its hiding\\nthe implementation details. In python we inherit abstract class and abstract class have abstract method . Its simply provide\\na skeleton for the devloper and then we can implement on the different class. Its reduce the size of code . In this way we devide\\nthe code into different parts so, we can implement in places . so its reduce the code size and simplifies the complexity'"
      ]
     },
     "execution_count": 2,
     "metadata": {},
     "output_type": "execute_result"
    }
   ],
   "source": [
    "#2.\n",
    "'''abstraction is the one of the concept in object oriented programming. Its simplifies the complexity of code because its hiding\n",
    "the implementation details. In python we inherit abstract class and abstract class have abstract method . Its simply provide\n",
    "a skeleton for the devloper and then we can implement on the different class. Its reduce the size of code . In this way we devide\n",
    "the code into different parts so, we can implement in places . so its reduce the code size and simplifies the complexity'''"
   ]
  },
  {
   "cell_type": "code",
   "execution_count": 17,
   "id": "c214387c",
   "metadata": {},
   "outputs": [
    {
     "name": "stdout",
     "output_type": "stream",
     "text": [
      "28.26\n",
      "12\n"
     ]
    }
   ],
   "source": [
    "#3.Create a Python class called `Shape` with an abstract method `calculate_area()`. \n",
    "#Then, create child classes (e.g., `Circle`, `Rectangle`) that implement the `calculate_area()` method. Provide an example of\n",
    "#using these classes.\n",
    "from abc import ABC,abstractmethod\n",
    "class Shape(ABC):\n",
    "    @abstractmethod\n",
    "    def calculate_area(self):\n",
    "        pass\n",
    "class Circle(Shape):\n",
    "    def calculate_area(self,r):\n",
    "        return 3.14*r**2\n",
    "class Rectangle(Shape):\n",
    "    def calculate_area(self,l,w):\n",
    "        return l*w\n",
    "c=Circle()\n",
    "print(c.calculate_area(3))\n",
    "r=Rectangle()\n",
    "print(r.calculate_area(3,4))"
   ]
  },
  {
   "cell_type": "code",
   "execution_count": 22,
   "id": "d6d4f5be",
   "metadata": {},
   "outputs": [
    {
     "data": {
      "text/plain": [
       "'arpan'"
      ]
     },
     "execution_count": 22,
     "metadata": {},
     "output_type": "execute_result"
    }
   ],
   "source": [
    "'''4. Explain the concept of abstract classes in Python and how they are defined using the `abc` module. Provide\n",
    "an example.\n",
    "5. How do abstract classes differ from regular classes in Python? Discuss their use cases.'''\n",
    "#ans:\n",
    "'''abstract classes are those classes which have abstract and concrete methods but we cant instantiate abstract class. we inst\n",
    "antiate by using its child classes. In python we using abstraction by abc module and its a base class we inherits this in\n",
    "our base class and then from abc we import decorator abstract method and ABC. decorator is used for defining its a abstract method. '''\n",
    "from abc import ABC,abstractmethod\n",
    "class Person(ABC):\n",
    "    name='arpan'\n",
    "    @abstractmethod\n",
    "    def getname(self):\n",
    "        pass\n",
    "    def setname(self):\n",
    "        self.setname=name\n",
    "class name1(Person):\n",
    "    def getname(self):\n",
    "        return self.name\n",
    "n=name1()\n",
    "n.getname()\n",
    "#ans 5:\n",
    "'''In the regular classes we can create instance of it but in abstract class we can't create instance of abstract class. '''"
   ]
  },
  {
   "cell_type": "code",
   "execution_count": 23,
   "id": "562a9fec",
   "metadata": {},
   "outputs": [
    {
     "data": {
      "text/plain": [
       "'6. Create a Python class for a bank account and demonstrate abstraction by hiding the account balance and\\nproviding methods to deposit and withdraw funds.\\n7. Discuss the concept of interface classes in Python and their role in achieving abstraction.\\n8. Create a Python class hierarchy for animals and implement abstraction by defining common methods (e.g., `eat()`, `sleep()`) in an abstract base class.\\n9. Explain the significance of encapsulation in achieving abstraction. Provide examples.\\n10. What is the purpose of abstract methods, and how do they enforce abstraction in Python classes?'"
      ]
     },
     "execution_count": 23,
     "metadata": {},
     "output_type": "execute_result"
    }
   ],
   "source": [
    "'''6. Create a Python class for a bank account and demonstrate abstraction by hiding the account balance and\n",
    "providing methods to deposit and withdraw funds.\n",
    "7. Discuss the concept of interface classes in Python and their role in achieving abstraction.\n",
    "8. Create a Python class hierarchy for animals and implement abstraction by defining common methods (e.g., `eat()`, `sleep()`) in an abstract base class.\n",
    "9. Explain the significance of encapsulation in achieving abstraction. Provide examples.\n",
    "10. What is the purpose of abstract methods, and how do they enforce abstraction in Python classes?'''"
   ]
  },
  {
   "cell_type": "code",
   "execution_count": 32,
   "id": "637a3806",
   "metadata": {},
   "outputs": [
    {
     "data": {
      "text/plain": [
       "'fund is withdraw'"
      ]
     },
     "execution_count": 32,
     "metadata": {},
     "output_type": "execute_result"
    }
   ],
   "source": [
    "#6.\n",
    "from abc import ABC,abstractmethod\n",
    "class bank(ABC):\n",
    "    @abstractmethod\n",
    "    def deposite():\n",
    "        pass\n",
    "    @abstractmethod\n",
    "    def withdraw():\n",
    "        pass\n",
    "class sbi(bank):\n",
    "    __balance=0\n",
    "    def deposite(self,balance):\n",
    "        self.__balance=self.__balance+balance\n",
    "        return 'fund is deposited'\n",
    "    def withdraw(self,balance):\n",
    "        self.__balance=self.__balance-balance\n",
    "        return 'fund is withdraw'\n",
    "arpan=sbi()\n",
    "arpan.deposite(2000)\n",
    "arpan.withdraw(500)"
   ]
  },
  {
   "cell_type": "code",
   "execution_count": 33,
   "id": "70da0b5a",
   "metadata": {},
   "outputs": [],
   "source": [
    "#7.\n",
    "class ParserMeta(type):\n",
    "    \"\"\"A Parser metaclass that will be used for parser class creation.\n",
    "    \"\"\"\n",
    "    def __instancecheck__(cls, instance):\n",
    "        return cls.__subclasscheck__(type(instance))\n",
    "\n",
    "    def __subclasscheck__(cls, subclass):\n",
    "        return (hasattr(subclass, 'load_data_source') and \n",
    "                callable(subclass.load_data_source) and \n",
    "                hasattr(subclass, 'extract_text') and \n",
    "                callable(subclass.extract_text))\n",
    "\n",
    "class UpdatedInformalParserInterface(metaclass=ParserMeta):\n",
    "    \"\"\"This interface is used for concrete classes to inherit from.\n",
    "    There is no need to define the ParserMeta methods as any class\n",
    "    as they are implicitly made available via .__subclasscheck__().\n",
    "    \"\"\"\n",
    "    pass\n"
   ]
  },
  {
   "cell_type": "code",
   "execution_count": 34,
   "id": "94d10898",
   "metadata": {},
   "outputs": [],
   "source": [
    "class PdfParserNew:\n",
    "    \"\"\"Extract text from a PDF.\"\"\"\n",
    "    def load_data_source(self, path: str, file_name: str) -> str:\n",
    "        \"\"\"Overrides UpdatedInformalParserInterface.load_data_source()\"\"\"\n",
    "        pass\n",
    "\n",
    "    def extract_text(self, full_file_path: str) -> dict:\n",
    "        \"\"\"Overrides UpdatedInformalParserInterface.extract_text()\"\"\"\n",
    "        pass"
   ]
  },
  {
   "cell_type": "code",
   "execution_count": 35,
   "id": "f1ed633e",
   "metadata": {},
   "outputs": [],
   "source": [
    "class EmlParserNew:\n",
    "    \"\"\"Extract text from an email.\"\"\"\n",
    "    def load_data_source(self, path: str, file_name: str) -> str:\n",
    "        \"\"\"Overrides UpdatedInformalParserInterface.load_data_source()\"\"\"\n",
    "        pass\n",
    "\n",
    "    def extract_text_from_email(self, full_file_path: str) -> dict:\n",
    "        \"\"\"A method defined only in EmlParser.\n",
    "        Does not override UpdatedInformalParserInterface.extract_text()\n",
    "        \"\"\"\n",
    "        pass"
   ]
  },
  {
   "cell_type": "code",
   "execution_count": 36,
   "id": "56796c8e",
   "metadata": {},
   "outputs": [
    {
     "name": "stdout",
     "output_type": "stream",
     "text": [
      "True\n",
      "False\n"
     ]
    }
   ],
   "source": [
    "print(issubclass(PdfParserNew, UpdatedInformalParserInterface))\n",
    "\n",
    "\n",
    "print(issubclass(EmlParserNew, UpdatedInformalParserInterface))\n"
   ]
  },
  {
   "cell_type": "code",
   "execution_count": 37,
   "id": "fc6a96a5",
   "metadata": {},
   "outputs": [
    {
     "data": {
      "text/plain": [
       "'In the above example we see this concept'"
      ]
     },
     "execution_count": 37,
     "metadata": {},
     "output_type": "execute_result"
    }
   ],
   "source": [
    "#7. there are two ways two implement a interface in python by formal and informal way. In formal way we implement interface using\n",
    "'''abc.meta and by informal way we implement using meta class. In python we create interface using metaclass.'''\n",
    "'''In this way we create abstract methods in it and by virtual base class we implement abstract methods'''\n",
    "'''In the above example we see this concept'''"
   ]
  },
  {
   "cell_type": "code",
   "execution_count": 38,
   "id": "8f8eb4da",
   "metadata": {},
   "outputs": [
    {
     "data": {
      "text/plain": [
       "'8. Create a Python class hierarchy for animals and implement abstraction by defining common methods (e.g., `eat()`, `sleep()`) in an abstract base class.\\n9. Explain the significance of encapsulation in achieving abstraction. Provide examples.\\n10. What is the purpose of abstract methods, and how do they enforce abstraction in Python classes?'"
      ]
     },
     "execution_count": 38,
     "metadata": {},
     "output_type": "execute_result"
    }
   ],
   "source": [
    "'''8. Create a Python class hierarchy for animals and implement abstraction by defining common methods (e.g., `eat()`, `sleep()`) in an abstract base class.\n",
    "9. Explain the significance of encapsulation in achieving abstraction. Provide examples.\n",
    "10. What is the purpose of abstract methods, and how do they enforce abstraction in Python classes?'''"
   ]
  },
  {
   "cell_type": "code",
   "execution_count": 40,
   "id": "6bd920c6",
   "metadata": {},
   "outputs": [
    {
     "name": "stdout",
     "output_type": "stream",
     "text": [
      "bird is eating\n",
      "bird is sleeping\n",
      "lion is eating\n",
      "lion is sleeping\n"
     ]
    }
   ],
   "source": [
    "#8.\n",
    "from abc import ABC,abstractmethod\n",
    "class Animals(ABC):\n",
    "    @abstractmethod\n",
    "    def eat(self):\n",
    "        pass\n",
    "    @abstractmethod\n",
    "    def sleep(self):\n",
    "        pass\n",
    "class Bird(Animals):\n",
    "    def eat(self):\n",
    "        print('bird is eating')\n",
    "    def sleep(self):\n",
    "        print('bird is sleeping')\n",
    "class Lion(Animals):\n",
    "    def eat(self):\n",
    "        print('lion is eating')\n",
    "    def sleep(self):\n",
    "        print('lion is sleeping')\n",
    "b=Bird()\n",
    "b.eat()\n",
    "b.sleep()\n",
    "l=Lion()\n",
    "l.eat()\n",
    "l.sleep()"
   ]
  },
  {
   "cell_type": "code",
   "execution_count": 41,
   "id": "09c52793",
   "metadata": {},
   "outputs": [
    {
     "data": {
      "text/plain": [
       "'abstraction is used for highlighting only essential details to the user and hides the unneccessary details and In encapuslation\\nwe hides the details and necessary details or its a wrapping up of code and data together in a single unit is called encapsulation'"
      ]
     },
     "execution_count": 41,
     "metadata": {},
     "output_type": "execute_result"
    }
   ],
   "source": [
    "#9.\n",
    "'''abstraction is used for highlighting only essential details to the user and hides the unneccessary details and In encapuslation\n",
    "we hides the details and necessary details or its a wrapping up of code and data together in a single unit is called encapsulation'''\n"
   ]
  },
  {
   "cell_type": "code",
   "execution_count": 42,
   "id": "515b15a2",
   "metadata": {},
   "outputs": [
    {
     "data": {
      "text/plain": [
       "'abstract methods are important for implementing a abstraction in class . In abstraction we can create abstract method and conc\\ncrete methds and in its inherit class we implement them.'"
      ]
     },
     "execution_count": 42,
     "metadata": {},
     "output_type": "execute_result"
    }
   ],
   "source": [
    "#10.\n",
    "'''abstract methods are important for implementing a abstraction in class . In abstraction we can create abstract method and conc\n",
    "crete methds and in its inherit class we implement them.'''"
   ]
  },
  {
   "cell_type": "code",
   "execution_count": 43,
   "id": "14e7eebb",
   "metadata": {},
   "outputs": [
    {
     "data": {
      "text/plain": [
       "'11. Create a Python class for a vehicle system and demonstrate abstraction by defining common methods (e.g., `start()`, `stop()`) in an abstract base class.\\n12. Describe the use of abstract properties in Python and how they can be employed in abstract classes.\\n13. Create a Python class hierarchy for employees in a company (e.g., manager, developer, designer) and implement abstraction by defining a common `get_salary()` method.\\n14. Discuss the differences between abstract classes and concrete classes in Python, including their\\ninstantiation.\\n15. Explain the concept of abstract data types (ADTs) and their role in achieving abstraction in Python.\\n16. Create a Python class for a computer system, demonstrating abstraction by defining common methods (e.g., `power_on()`, `shutdown()`) in an abstract base class.\\n17. Discuss the benefits of using abstraction in large-scale software development projects.\\n18. Explain how abstraction enhances code reusability and modularity in Python programs.\\n19. Create a Python class for a library system, implementing abstraction by defining common methods (e.g., `add_book()`, `borrow_book()`) in an abstract base class.\\n20. Describe the concept of method abstraction in Python and how it relates to polymorphism.'"
      ]
     },
     "execution_count": 43,
     "metadata": {},
     "output_type": "execute_result"
    }
   ],
   "source": [
    "'''11. Create a Python class for a vehicle system and demonstrate abstraction by defining common methods (e.g., `start()`, `stop()`) in an abstract base class.\n",
    "12. Describe the use of abstract properties in Python and how they can be employed in abstract classes.\n",
    "13. Create a Python class hierarchy for employees in a company (e.g., manager, developer, designer) and implement abstraction by defining a common `get_salary()` method.\n",
    "14. Discuss the differences between abstract classes and concrete classes in Python, including their\n",
    "instantiation.\n",
    "15. Explain the concept of abstract data types (ADTs) and their role in achieving abstraction in Python.\n",
    "16. Create a Python class for a computer system, demonstrating abstraction by defining common methods (e.g., `power_on()`, `shutdown()`) in an abstract base class.\n",
    "17. Discuss the benefits of using abstraction in large-scale software development projects.\n",
    "18. Explain how abstraction enhances code reusability and modularity in Python programs.\n",
    "19. Create a Python class for a library system, implementing abstraction by defining common methods (e.g., `add_book()`, `borrow_book()`) in an abstract base class.\n",
    "20. Describe the concept of method abstraction in Python and how it relates to polymorphism.'''"
   ]
  },
  {
   "cell_type": "code",
   "execution_count": 44,
   "id": "bf9cecef",
   "metadata": {},
   "outputs": [
    {
     "name": "stdout",
     "output_type": "stream",
     "text": [
      "bmw is start\n",
      "bmw is stop\n"
     ]
    }
   ],
   "source": [
    "#11.\n",
    "from abc import ABC,abstractmethod\n",
    "class Vehicle(ABC):\n",
    "    @abstractmethod\n",
    "    def start(self):\n",
    "        pass\n",
    "    @abstractmethod\n",
    "    def stop(self):\n",
    "        pass\n",
    "class bmw(Vehicle):\n",
    "    def start(self):\n",
    "        print('bmw is start')\n",
    "    def stop(self):\n",
    "        print('bmw is stop')\n",
    "b=bmw()\n",
    "b.start()\n",
    "b.stop()"
   ]
  },
  {
   "cell_type": "code",
   "execution_count": 45,
   "id": "2eba8be0",
   "metadata": {},
   "outputs": [
    {
     "data": {
      "text/plain": [
       "'Abstract property is provided by the abc module to force the child \\nclass to provide getters and setters for a variable in Python.'"
      ]
     },
     "execution_count": 45,
     "metadata": {},
     "output_type": "execute_result"
    }
   ],
   "source": [
    "#12.\n",
    "'''Abstract property is provided by the abc module to force the child \n",
    "class to provide getters and setters for a variable in Python.'''"
   ]
  },
  {
   "cell_type": "code",
   "execution_count": 47,
   "id": "730496ac",
   "metadata": {},
   "outputs": [
    {
     "name": "stdout",
     "output_type": "stream",
     "text": [
      "manager salary is  200000\n",
      "devloper salry is  300000\n",
      "designer salry is 200000\n"
     ]
    }
   ],
   "source": [
    "#13.\n",
    "from abc import ABC,abstractmethod\n",
    "class Employee:\n",
    "    def __init__(self,sal):\n",
    "        self.sal=sal\n",
    "    def get_salary(self):\n",
    "        pass\n",
    "class Manager(Employee):\n",
    "    def __init__(self,sal):\n",
    "        super().__init__(sal)\n",
    "    def get_salary(self):\n",
    "        return self.sal\n",
    "class Devloper(Employee):\n",
    "    def __init__(self,sal):\n",
    "        super().__init__(sal)\n",
    "    def get_salary(self):\n",
    "        return self.sal\n",
    "class Designer(Employee):\n",
    "    def __init__(self,sal):\n",
    "        super().__init__(sal)\n",
    "    def get_salary(self):\n",
    "        return self.sal\n",
    "m=Manager(200000)\n",
    "print('manager salary is ',m.get_salary())\n",
    "d=Devloper(300000)\n",
    "print('devloper salry is ',d.get_salary())\n",
    "desig=Designer(200000)\n",
    "print('designer salry is',desig.get_salary())"
   ]
  },
  {
   "cell_type": "code",
   "execution_count": 48,
   "id": "4e9cd3ca",
   "metadata": {},
   "outputs": [
    {
     "data": {
      "text/plain": [
       "'abstract class can be access by its child class we cant direct instantiate them but in concrete class we can instantiate them'"
      ]
     },
     "execution_count": 48,
     "metadata": {},
     "output_type": "execute_result"
    }
   ],
   "source": [
    "#14.\n",
    "'''abstract class have abstract methods and concrete methods and concrete class have concrete methods '''\n",
    "'''abstract class inherits ABC module in python but in concrete class dont require any module to define its concrete class'''\n",
    "'''abstract class can be access by its child class we cant direct instantiate them but in concrete class we can instantiate them'''"
   ]
  },
  {
   "cell_type": "code",
   "execution_count": 49,
   "id": "195d0c50",
   "metadata": {},
   "outputs": [
    {
     "data": {
      "text/plain": [
       "'he abstract data type is special kind of data type, whose behavior is defined by a set of values and set of operations. \\nThe keyword “Abstract” is used as we can use these data types, we can perform different operations.\\nBut how those operations are working that is totally hidden from the user. \\nThe ADT is made of primitive data types, but operation logics are hidden.\\n\\nSome examples of ADT are Stack, Queue, List etc.'"
      ]
     },
     "execution_count": 49,
     "metadata": {},
     "output_type": "execute_result"
    }
   ],
   "source": [
    "#15.\n",
    "'''he abstract data type is special kind of data type, whose behavior is defined by a set of values and set of operations. \n",
    "The keyword “Abstract” is used as we can use these data types, we can perform different operations.\n",
    "But how those operations are working that is totally hidden from the user. \n",
    "The ADT is made of primitive data types, but operation logics are hidden.\n",
    "\n",
    "Some examples of ADT are Stack, Queue, List etc.'''"
   ]
  },
  {
   "cell_type": "code",
   "execution_count": 51,
   "id": "dd7adfab",
   "metadata": {},
   "outputs": [
    {
     "name": "stdout",
     "output_type": "stream",
     "text": [
      "power is on\n",
      "computer is off\n"
     ]
    }
   ],
   "source": [
    "#16.\n",
    "from abc import ABC,abstractmethod\n",
    "class Computer(ABC):\n",
    "    @abstractmethod\n",
    "    def power_on(self):\n",
    "        pass\n",
    "    @abstractmethod\n",
    "    def shut_down(self):\n",
    "        pass\n",
    "class Dell(Computer):\n",
    "    def power_on(self):\n",
    "        print('power is on')\n",
    "    def shut_down(self):\n",
    "        print('computer is off')\n",
    "d=Dell()\n",
    "d.power_on()\n",
    "d.shut_down()"
   ]
  },
  {
   "cell_type": "code",
   "execution_count": 52,
   "id": "cf77f130",
   "metadata": {},
   "outputs": [
    {
     "data": {
      "text/plain": [
       "'we can optimize very easily in the system with the help of abstraction. In this way system become very smooth '"
      ]
     },
     "execution_count": 52,
     "metadata": {},
     "output_type": "execute_result"
    }
   ],
   "source": [
    "#17.\n",
    "'''abstraction is very useful for devlopment of large scale systems because its creating a skeleton of software means\n",
    "distribution of task is easy with the help of abstraction . Devlopers can easily do task with the help of abstraction and In th\n",
    "e end of cycle we can integrate all of the components. '''\n",
    "'''IN the large scale systems there are so many unnecessary complex things in the system which is not important for the user\n",
    "and its very complex also . so with the help of abstraction we can easily hide all the details.'''\n",
    "'''there are some functionaliy in the system like login signup type of functionality is very important for the user so for this\n",
    "purpose also abstraction is very useful'''\n",
    "'''we can optimize very easily in the system with the help of abstraction. In this way system become very smooth '''"
   ]
  },
  {
   "cell_type": "code",
   "execution_count": 53,
   "id": "25bf6555",
   "metadata": {},
   "outputs": [
    {
     "data": {
      "text/plain": [
       "'abstraction increases code reusabilit and modularity . because internally abstraction uses concepts of polymorphism and inherita\\nnce mainly and these two principles mainly depends on code reusability and modularity'"
      ]
     },
     "execution_count": 53,
     "metadata": {},
     "output_type": "execute_result"
    }
   ],
   "source": [
    "#18.\n",
    "'''abstraction increases code reusabilit and modularity . because internally abstraction uses concepts of polymorphism and inherita\n",
    "nce mainly and these two principles mainly depends on code reusability and modularity'''"
   ]
  },
  {
   "cell_type": "code",
   "execution_count": 54,
   "id": "5c88ed2d",
   "metadata": {},
   "outputs": [
    {
     "name": "stdout",
     "output_type": "stream",
     "text": [
      "book is added in the library\n",
      "book is borrowed\n"
     ]
    }
   ],
   "source": [
    "#19.\n",
    "class Library(ABC):\n",
    "    @abstractmethod\n",
    "    def add_book(self):\n",
    "        pass\n",
    "    @abstractmethod\n",
    "    def borrow_book(self):\n",
    "        pass\n",
    "class Vivekanand(Library):\n",
    "    def add_book(self):\n",
    "        print('book is added in the library')\n",
    "    def borrow_book(self):\n",
    "        print('book is borrowed')\n",
    "v=Vivekanand()\n",
    "v.add_book()\n",
    "v.borrow_book()"
   ]
  },
  {
   "cell_type": "code",
   "execution_count": 55,
   "id": "2b66bd69",
   "metadata": {},
   "outputs": [
    {
     "data": {
      "text/plain": [
       "'methods are abstracts in python means we cant implements methods. abstraction mainly implements the concept of polymorphism\\nbecause when we inherits the property of abstract class. soi in the child class we overrides or overload the parents methods so, its\\nuse the main concept of polymorphism.'"
      ]
     },
     "execution_count": 55,
     "metadata": {},
     "output_type": "execute_result"
    }
   ],
   "source": [
    "#20.\n",
    "'''methods are abstracts in python means we cant implements methods. abstraction mainly implements the concept of polymorphism\n",
    "because when we inherits the property of abstract class. soi in the child class we overrides or overload the parents methods so, its\n",
    "use the main concept of polymorphism.'''"
   ]
  },
  {
   "cell_type": "raw",
   "id": "41729569",
   "metadata": {},
   "source": [
    "# Composition:\n",
    "1. Explain the concept of composition in Python and how it is used to build complex objects from simpler ones.\n",
    "2. Describe the difference between composition and inheritance in object-oriented programming.\n",
    "3. Create a Python class called `Author` with attributes for name and birthdate. Then, create a `Book` class\n",
    "that contains an instance of `Author` as a composition. Provide an example of creating a `Book` object.\n",
    "4. Discuss the benefits of using composition over inheritance in Python, especially in terms of code flexibility\n",
    "and reusability.\n",
    "5. How can you implement composition in Python classes? Provide examples of using composition to create\n",
    "complex objects.\n",
    "6. Create a Python class hierarchy for a music player system, using composition to represent playlists and\n",
    "songs.\n",
    "7. Explain the concept of \"has-a\" relationships in composition and how it helps design software systems.\n",
    "8. Create a Python class for a computer system, using composition to represent components like CPU, RAM,\n",
    "and storage devices.\n",
    "9. Describe the concept of \"delegation\" in composition and how it simplifies the design of complex systems.\n",
    "10. Create a Python class for a car, using composition to represent components like the engine, wheels, and\n",
    "transmission.\n",
    "11. How can you encapsulate and hide the details of composed objects in Python classes to maintain\n",
    "abstraction?\n",
    "12. Create a Python class for a university course, using composition to represent students, instructors, and\n",
    "course materials.\n",
    "13. Discuss the challenges and drawbacks of composition, such as increased complexity and potential for\n",
    "tight coupling between objects.\n",
    "14. Create a Python class hierarchy for a restaurant system, using composition to represent menus, dishes,\n",
    "and ingredients.\n",
    "15. Explain how composition enhances code maintainability and modularity in Python programs.\n",
    "16. Create a Python class for a computer game character, using composition to represent attributes like\n",
    "weapons, armor, and inventory.\n",
    "17. Describe the concept of \"aggregation\" in composition and how it differs from simple composition.\n",
    "18. Create a Python class for a house, using composition to represent rooms, furniture, and appliances.\n",
    "19. How can you achieve flexibility in composed objects by allowing them to be replaced or modified\n",
    "dynamically at runtime?\n",
    "20. Create a Python class for a social media application, using composition to represent users, posts, and\n",
    "comments."
   ]
  },
  {
   "cell_type": "code",
   "execution_count": 1,
   "id": "0f01bac6",
   "metadata": {},
   "outputs": [
    {
     "data": {
      "text/plain": [
       "'1. Explain the concept of composition in Python and how it is used to build complex objects from simpler ones.\\n2. Describe the difference between composition and inheritance in object-oriented programming.\\n3. Create a Python class called `Author` with attributes for name and birthdate. Then, create a `Book` class\\nthat contains an instance of `Author` as a composition. Provide an example of creating a `Book` object.\\n4. Discuss the benefits of using composition over inheritance in Python, especially in terms of code flexibility\\nand reusability.\\n5. How can you implement composition in Python classes? Provide examples of using composition to create\\ncomplex objects.'"
      ]
     },
     "execution_count": 1,
     "metadata": {},
     "output_type": "execute_result"
    }
   ],
   "source": [
    "'''1. Explain the concept of composition in Python and how it is used to build complex objects from simpler ones.\n",
    "2. Describe the difference between composition and inheritance in object-oriented programming.\n",
    "3. Create a Python class called `Author` with attributes for name and birthdate. Then, create a `Book` class\n",
    "that contains an instance of `Author` as a composition. Provide an example of creating a `Book` object.\n",
    "4. Discuss the benefits of using composition over inheritance in Python, especially in terms of code flexibility\n",
    "and reusability.\n",
    "5. How can you implement composition in Python classes? Provide examples of using composition to create\n",
    "complex objects.'''"
   ]
  },
  {
   "cell_type": "code",
   "execution_count": 2,
   "id": "b6ef4429",
   "metadata": {},
   "outputs": [
    {
     "data": {
      "text/plain": [
       "'It is one of the fundamental concepts of Object-Oriented Programming. In this concept, we will describe a class \\nthat references to one or more objects of other classes as an Instance variable. \\nHere, by using the class name or by creating the object we can access the members of one class inside another class. \\nIt enables creating complex types by combining objects of different classes. \\nIt means that a class Composite can contain an object of another class Component. \\nThis type of relationship is known as Has-A Relation.'"
      ]
     },
     "execution_count": 2,
     "metadata": {},
     "output_type": "execute_result"
    }
   ],
   "source": [
    "#1.\n",
    "'''It is one of the fundamental concepts of Object-Oriented Programming. In this concept, we will describe a class \n",
    "that references to one or more objects of other classes as an Instance variable. \n",
    "Here, by using the class name or by creating the object we can access the members of one class inside another class. \n",
    "It enables creating complex types by combining objects of different classes. \n",
    "It means that a class Composite can contain an object of another class Component. \n",
    "This type of relationship is known as Has-A Relation.'''"
   ]
  },
  {
   "cell_type": "code",
   "execution_count": 3,
   "id": "48b43132",
   "metadata": {},
   "outputs": [
    {
     "data": {
      "text/plain": [
       "'composition cant modify the behaviour of objects but in inheriance can do it'"
      ]
     },
     "execution_count": 3,
     "metadata": {},
     "output_type": "execute_result"
    }
   ],
   "source": [
    "#2.\n",
    "'''composition is used to reference other class objects but in other side inheritance we inherits the properties of parent class'''\n",
    "'''composition is a has - a relationship but inheritance is the is-a relationship'''\n",
    "'''composition cant modify the behaviour of objects but in inheriance can do it'''"
   ]
  },
  {
   "cell_type": "code",
   "execution_count": 7,
   "id": "5d9cc0be",
   "metadata": {},
   "outputs": [
    {
     "name": "stdout",
     "output_type": "stream",
     "text": [
      "name is dsa\n"
     ]
    }
   ],
   "source": [
    "#3.\n",
    "'''Create a Python class called `Author` with attributes for name and birthdate. Then, create a `Book` class\n",
    "that contains an instance of `Author` as a composition. Provide an example of creating a `Book` object.'''\n",
    "class Author:\n",
    "    def __init__(self,name,birthdate):\n",
    "        self.name=name\n",
    "        self.birthdate=birthdate\n",
    "class Book:\n",
    "    def __init__(self,name,birthdate):\n",
    "        self.obj=Author(name,birthdate)\n",
    "    def name(self):\n",
    "        print('name is',self.obj.name)\n",
    "b=Book('dsa','19/09/2000')\n",
    "b.name()"
   ]
  },
  {
   "cell_type": "code",
   "execution_count": 6,
   "id": "36379b78",
   "metadata": {},
   "outputs": [
    {
     "data": {
      "text/plain": [
       "'composition is good when we accessing attributes of other class without modifying it but in inheritance we have a provision\\nof modifying the attributes. '"
      ]
     },
     "execution_count": 6,
     "metadata": {},
     "output_type": "execute_result"
    }
   ],
   "source": [
    "#4.\n",
    "'''composition is good when we accessing attributes of other class without modifying it but in inheritance we have a provision\n",
    "of modifying the attributes. '''"
   ]
  },
  {
   "cell_type": "code",
   "execution_count": 9,
   "id": "6cf00f45",
   "metadata": {},
   "outputs": [
    {
     "data": {
      "text/plain": [
       "'titan'"
      ]
     },
     "execution_count": 9,
     "metadata": {},
     "output_type": "execute_result"
    }
   ],
   "source": [
    "#5.\n",
    "'''we implement composition by using reference other objects classes'''\n",
    "class Watch:\n",
    "    company='titan'\n",
    "    color='gold'\n",
    "class T:\n",
    "    def __init__(self):\n",
    "        self.obj=Watch()\n",
    "        \n",
    "t=T()\n",
    "t.obj.company"
   ]
  },
  {
   "cell_type": "code",
   "execution_count": 10,
   "id": "6adb2203",
   "metadata": {},
   "outputs": [
    {
     "data": {
      "text/plain": [
       "'6. Create a Python class hierarchy for a music player system, using composition to represent playlists and\\nsongs.\\n7. Explain the concept of \"has-a\" relationships in composition and how it helps design software systems.\\n8. Create a Python class for a computer system, using composition to represent components like CPU, RAM,\\nand storage devices.\\n9. Describe the concept of \"delegation\" in composition and how it simplifies the design of complex systems.\\n10. Create a Python class for a car, using composition to represent components like the engine, wheels, and\\ntransmission.'"
      ]
     },
     "execution_count": 10,
     "metadata": {},
     "output_type": "execute_result"
    }
   ],
   "source": [
    "'''6. Create a Python class hierarchy for a music player system, using composition to represent playlists and\n",
    "songs.\n",
    "7. Explain the concept of \"has-a\" relationships in composition and how it helps design software systems.\n",
    "8. Create a Python class for a computer system, using composition to represent components like CPU, RAM,\n",
    "and storage devices.\n",
    "9. Describe the concept of \"delegation\" in composition and how it simplifies the design of complex systems.\n",
    "10. Create a Python class for a car, using composition to represent components like the engine, wheels, and\n",
    "transmission.'''"
   ]
  },
  {
   "cell_type": "code",
   "execution_count": 17,
   "id": "1fe850e5",
   "metadata": {},
   "outputs": [
    {
     "name": "stdout",
     "output_type": "stream",
     "text": [
      "jkfjkf\n"
     ]
    }
   ],
   "source": [
    "#6.\n",
    "class Music:\n",
    "    playlist=['sad','romantic','sleepMode','Party']\n",
    "    songs=['fjkf','jkfjkf','jkfjkfkf','jkfjflk']\n",
    "    album=dict(zip(playlist,songs))\n",
    "    \n",
    "class Access:\n",
    "    def __init__(self,play):\n",
    "        self.obj=Music()\n",
    "        if play in self.obj.album:\n",
    "            print(self.obj.album[play])\n",
    "a=Access('romantic')\n"
   ]
  },
  {
   "cell_type": "code",
   "execution_count": 16,
   "id": "b7bc69c3",
   "metadata": {},
   "outputs": [
    {
     "name": "stdout",
     "output_type": "stream",
     "text": [
      "fjkf\n"
     ]
    }
   ],
   "source": [
    "#7.\n",
    "'''has-a relationship is the composition in oops. Its designing individual componenets in software devlopement means its\n",
    "not dependable in its base class. so whenever we required to change any functionlity in the system we can do it easily.'''"
   ]
  },
  {
   "cell_type": "code",
   "execution_count": 22,
   "id": "99a66e94",
   "metadata": {},
   "outputs": [
    {
     "name": "stdout",
     "output_type": "stream",
     "text": [
      "My Computer, Intel,sanddisk,micron\n"
     ]
    }
   ],
   "source": [
    "#8.\n",
    "class Computer():\n",
    "    def __init__(self, name, cpu,ram,storage):\n",
    "        self.name = name\n",
    "        self.cpu = cpu\n",
    "        self.ram=ram\n",
    "        self.storage=storage\n",
    "\n",
    "class CPU():\n",
    "    def __init__(self, manufacturer):\n",
    "        self.manufacturer = manufacturer\n",
    "class RAM():\n",
    "    def __init__(self,manufacturer):\n",
    "        self.manufacturer=manufacturer\n",
    "class Storage():\n",
    "    def __init__(self,manufacturer):\n",
    "        self.manufacturer=manufacturer\n",
    "        \n",
    "intel_cpu = CPU('Intel')\n",
    "sanddisk=RAM('sanddisk')\n",
    "micron=Storage('micron')\n",
    "mycomputer = Computer('My Computer', intel_cpu,sanddisk,micron)\n",
    "\n",
    "print(\"{0}, {1},{2},{3}\".format(mycomputer.name, mycomputer.cpu.manufacturer,mycomputer.ram.manufacturer,mycomputer.storage.manufacturer))\n",
    "    "
   ]
  },
  {
   "cell_type": "code",
   "execution_count": 23,
   "id": "7c591ae5",
   "metadata": {},
   "outputs": [
    {
     "data": {
      "text/plain": [
       "'\\nDelegation is a design pattern in which an object, called the delegate, is responsible for performing certain tasks \\non behalf of another object, called the delegator. This can be done by the delegator forwarding method calls and \\nattribute access to the delegate. In its most basic form, delegation can be implemented using the following approach: \\nthe delegator passes requests for certain actions to the delegate, which then performs the actions on behalf of the delegator.\\n'"
      ]
     },
     "execution_count": 23,
     "metadata": {},
     "output_type": "execute_result"
    }
   ],
   "source": [
    "#9.\n",
    "'''\n",
    "Delegation is a design pattern in which an object, called the delegate, is responsible for performing certain tasks \n",
    "on behalf of another object, called the delegator. This can be done by the delegator forwarding method calls and \n",
    "attribute access to the delegate. In its most basic form, delegation can be implemented using the following approach: \n",
    "the delegator passes requests for certain actions to the delegate, which then performs the actions on behalf of the delegator.\n",
    "'''"
   ]
  },
  {
   "cell_type": "code",
   "execution_count": 26,
   "id": "7a4ee799",
   "metadata": {},
   "outputs": [
    {
     "name": "stdout",
     "output_type": "stream",
     "text": [
      "1500\n",
      "CEAT\n",
      "asmain\n"
     ]
    }
   ],
   "source": [
    "#10.\n",
    "'''10. Create a Python class for a car, using composition to represent components like the engine, wheels, and\n",
    "transmission.'''\n",
    "class Car:\n",
    "    def __init__(self,name,engine,wheels,transmission):\n",
    "        self.name=name\n",
    "        self.engine=engine\n",
    "        self.wheels=wheels\n",
    "        self.transmission=transmission\n",
    "class Engine:\n",
    "    def __init__(self,hp,manufacturer):\n",
    "        self.hp=hp\n",
    "        self.manufacturer=manufacturer\n",
    "class Wheels:\n",
    "    def __init__(self,manufacturer):\n",
    "        self.manufacturer=manufacturer\n",
    "class Transmission:\n",
    "    def __init__(self,manufacturer):\n",
    "        self.manufacturer=manufacturer\n",
    "E=Engine(1500,'genralmotors')\n",
    "w=Wheels('CEAT')\n",
    "t=Transmission('asmain')\n",
    "c=Car('tata',E,w,t)\n",
    "print(c.engine.hp)\n",
    "print(c.wheels.manufacturer)\n",
    "print(c.transmission.manufacturer)"
   ]
  },
  {
   "cell_type": "code",
   "execution_count": 27,
   "id": "687fd4cf",
   "metadata": {},
   "outputs": [
    {
     "data": {
      "text/plain": [
       "'11. How can you encapsulate and hide the details of composed objects in Python classes to maintain\\nabstraction?\\n12. Create a Python class for a university course, using composition to represent students, instructors, and\\ncourse materials.\\n13. Discuss the challenges and drawbacks of composition, such as increased complexity and potential for\\ntight coupling between objects.\\n14. Create a Python class hierarchy for a restaurant system, using composition to represent menus, dishes,\\nand ingredients.\\n15. Explain how composition enhances code maintainability and modularity in Python programs.\\n16. Create a Python class for a computer game character, using composition to represent attributes like\\nweapons, armor, and inventory.\\n17. Describe the concept of \"aggregation\" in composition and how it differs from simple composition.\\n18. Create a Python class for a house, using composition to represent rooms, furniture, and appliances.\\n19. How can you achieve flexibility in composed objects by allowing them to be replaced or modified\\ndynamically at runtime?\\n20. Create a Python class for a social media application, using composition to represent users, posts, and\\ncomments.'"
      ]
     },
     "execution_count": 27,
     "metadata": {},
     "output_type": "execute_result"
    }
   ],
   "source": [
    "'''11. How can you encapsulate and hide the details of composed objects in Python classes to maintain\n",
    "abstraction?\n",
    "12. Create a Python class for a university course, using composition to represent students, instructors, and\n",
    "course materials.\n",
    "13. Discuss the challenges and drawbacks of composition, such as increased complexity and potential for\n",
    "tight coupling between objects.\n",
    "14. Create a Python class hierarchy for a restaurant system, using composition to represent menus, dishes,\n",
    "and ingredients.\n",
    "15. Explain how composition enhances code maintainability and modularity in Python programs.\n",
    "16. Create a Python class for a computer game character, using composition to represent attributes like\n",
    "weapons, armor, and inventory.\n",
    "17. Describe the concept of \"aggregation\" in composition and how it differs from simple composition.\n",
    "18. Create a Python class for a house, using composition to represent rooms, furniture, and appliances.\n",
    "19. How can you achieve flexibility in composed objects by allowing them to be replaced or modified\n",
    "dynamically at runtime?\n",
    "20. Create a Python class for a social media application, using composition to represent users, posts, and\n",
    "comments.'''"
   ]
  },
  {
   "cell_type": "code",
   "execution_count": 31,
   "id": "c02892cf",
   "metadata": {},
   "outputs": [
    {
     "name": "stdout",
     "output_type": "stream",
     "text": [
      "['vikas', 'aruneek', 'kuljeet', 'radhika', 'himanshu', 'priya']\n",
      "['himanshu', 'priya', 'krish']\n",
      "['dsa', 'python', 'ml', 'computer vision', 'maths']\n"
     ]
    }
   ],
   "source": [
    "'''11. How can you encapsulate and hide the details of composed objects in Python classes to maintain\n",
    "abstraction?\n",
    "12. Create a Python class for a university course, using composition to represent students, instructors, and\n",
    "course materials.\n",
    "13. Discuss the challenges and drawbacks of composition, such as increased complexity and potential for\n",
    "tight coupling between objects.\n",
    "14. Create a Python class hierarchy for a restaurant system, using composition to represent menus, dishes,\n",
    "and ingredients.\n",
    "15. Explain how composition enhances code maintainability and modularity in Python programs.'''\n",
    "\n",
    "#ans\n",
    "#11.\n",
    "'''Each class or module can encapuslate its own functionality, which means that you can modify the internal implementation without\n",
    "affecting other parts of the code that use it.'''\n",
    "'''12. '''\n",
    "class University:\n",
    "    def __init__(self,student,instructor,course):\n",
    "        self.student=student\n",
    "        self.instructor=instructor\n",
    "        self.course=course\n",
    "        \n",
    "class Students:\n",
    "    def __init__(self,students):\n",
    "        self.students=students\n",
    "class Instructors:\n",
    "    def __init__(self,instructor):\n",
    "        self.instructor=instructor\n",
    "class Course:\n",
    "    def __init__(self,course):\n",
    "        self.course=course\n",
    "\n",
    "s=Students(['vikas','aruneek','kuljeet','radhika','himanshu','priya'])\n",
    "i=Instructors(['himanshu','priya','krish'])\n",
    "c=Course(['dsa','python','ml','computer vision','maths'])\n",
    "u=University(s,i,c)\n",
    "print(u.student.students)\n",
    "print(u.instructor.instructor)\n",
    "print(u.course.course)\n"
   ]
  },
  {
   "cell_type": "code",
   "execution_count": 32,
   "id": "b28dca71",
   "metadata": {},
   "outputs": [
    {
     "data": {
      "text/plain": [
       "'\\n\\nUse inheritance over composition in Python to model a clear is a relationship. First, justify the relationship between the derived class and its base. \\nThen, reverse the relationship and try to justify it. If you can justify the relationship in both directions, \\nthen you should not use inheritance between them.\\n\\nUse inheritance over composition in Python to leverage both the interface and implementation of the base class.\\n\\nUse inheritance over composition in Python to provide mixin features to several unrelated classes when there is only one implementation of that feature.\\n'"
      ]
     },
     "execution_count": 32,
     "metadata": {},
     "output_type": "execute_result"
    }
   ],
   "source": [
    "#13.\n",
    "'''\n",
    "\n",
    "Use inheritance over composition in Python to model a clear is a relationship. First, justify the relationship between the derived class and its base. \n",
    "Then, reverse the relationship and try to justify it. If you can justify the relationship in both directions, \n",
    "then you should not use inheritance between them.\n",
    "\n",
    "Use inheritance over composition in Python to leverage both the interface and implementation of the base class.\n",
    "\n",
    "Use inheritance over composition in Python to provide mixin features to several unrelated classes when there is only one implementation of that feature.\n",
    "'''"
   ]
  },
  {
   "cell_type": "code",
   "execution_count": 36,
   "id": "5079b400",
   "metadata": {},
   "outputs": [
    {
     "name": "stdout",
     "output_type": "stream",
     "text": [
      "['carte', 'static', 'du jour']\n",
      "['kachori', 'samosa', 'burger']\n",
      "['potato', 'tomato', 'lady finger']\n"
     ]
    }
   ],
   "source": [
    "#14.\n",
    "'''14. Create a Python class hierarchy for a restaurant system, using composition to represent menus, dishes,\n",
    "and ingredients.'''\n",
    "class Restaurant:\n",
    "    def __init__(self):\n",
    "        self.menus=['carte','static','du jour']\n",
    "        self.dishes=['kachori','samosa','burger']\n",
    "        self.ingredients=['potato','tomato','lady finger']\n",
    "class menus:\n",
    "    def __init__(self):\n",
    "        self.obj=Restaurant()\n",
    "class Dishes:\n",
    "    def __init__(self):\n",
    "        self.obj=Restaurant()\n",
    "class Ingredients:\n",
    "    def __init__(self):\n",
    "        self.obj=Restaurant()\n",
    "m=menus()\n",
    "d=Dishes()\n",
    "i=Ingredients()\n",
    "print(m.obj.menus)\n",
    "print(d.obj.dishes)\n",
    "print(i.obj.ingredients)"
   ]
  },
  {
   "cell_type": "code",
   "execution_count": 37,
   "id": "1e2cc135",
   "metadata": {},
   "outputs": [
    {
     "data": {
      "text/plain": [
       "'composition allows to break down your code into smaller ,reusable components or classes. Instead of writing monolithic code,\\nyou can create independent modules that encapuslate specific functionality. This makes it easier to understand and work on smaller\\npieces  of your codebase'"
      ]
     },
     "execution_count": 37,
     "metadata": {},
     "output_type": "execute_result"
    }
   ],
   "source": [
    "#15. composition enhances the code maintainbility and modularity\n",
    "'''composition allows to break down your code into smaller ,reusable components or classes. Instead of writing monolithic code,\n",
    "you can create independent modules that encapuslate specific functionality. This makes it easier to understand and work on smaller\n",
    "pieces  of your codebase'''\n",
    "'''Each class or module can encapuslate its own functionality, which means that you can modify the internal implementation without\n",
    "affecting other parts of the code that use it.'''"
   ]
  },
  {
   "cell_type": "code",
   "execution_count": 39,
   "id": "f870530e",
   "metadata": {},
   "outputs": [
    {
     "name": "stdout",
     "output_type": "stream",
     "text": [
      "ak47\n",
      "['heavy', 'scale', 'do mouro']\n",
      "['napkins', 'toilet paper', 'foam cups', 'ammunition', 'medical supplies', 'medication']\n"
     ]
    }
   ],
   "source": [
    "'''16. Create a Python class for a computer game character, using composition to represent attributes like\n",
    "weapons, armor, and inventory.\n",
    "17. Describe the concept of \"aggregation\" in composition and how it differs from simple composition.\n",
    "18. Create a Python class for a house, using composition to represent rooms, furniture, and appliances.\n",
    "19. How can you achieve flexibility in composed objects by allowing them to be replaced or modified\n",
    "dynamically at runtime?\n",
    "20. Create a Python class for a social media application, using composition to represent users, posts, and\n",
    "comments'''\n",
    "\n",
    "#ans16:\n",
    "class Game:\n",
    "    def __init__(self):\n",
    "        self.weapon='ak47'\n",
    "        self.armor=['heavy','scale','do mouro']\n",
    "        self.inventory=['napkins', 'toilet paper', 'foam cups', 'ammunition', 'medical supplies', 'medication']\n",
    "class Weapons:\n",
    "    def __init__(self):\n",
    "        self.obj=Game()\n",
    "class Armor:\n",
    "    def __init__(self):\n",
    "        self.obj=Game()\n",
    "class Inventory:\n",
    "    def __init__(self):\n",
    "        self.obj=Game()\n",
    "w=Weapons()\n",
    "a=Armor()\n",
    "i=Inventory()\n",
    "print(w.obj.weapon)\n",
    "print(a.obj.armor)\n",
    "print(i.obj.inventory)"
   ]
  },
  {
   "cell_type": "code",
   "execution_count": 40,
   "id": "45c2dde6",
   "metadata": {},
   "outputs": [
    {
     "data": {
      "text/plain": [
       "'the choice between simple composition and aggregation depends on the specific design requirements and how tightly you wnat to \\ncouple the lifetime of the composed objects to the owning class.'"
      ]
     },
     "execution_count": 40,
     "metadata": {},
     "output_type": "execute_result"
    }
   ],
   "source": [
    "#17.\n",
    "'''In aggregation , one class is compose of one or more objects of another class, but the composed objects have a more independt existence'''\n",
    "'''the choice between simple composition and aggregation depends on the specific design requirements and how tightly you wnat to \n",
    "couple the lifetime of the composed objects to the owning class.'''"
   ]
  },
  {
   "cell_type": "code",
   "execution_count": 42,
   "id": "679e4534",
   "metadata": {},
   "outputs": [
    {
     "name": "stdout",
     "output_type": "stream",
     "text": [
      "freeje\n",
      "table\n",
      "bedroom\n"
     ]
    }
   ],
   "source": [
    "#18.\n",
    "class House:\n",
    "    def __init__(self,appliances,furniture,rooms):\n",
    "        self.appliances=appliances\n",
    "        self.furniture=furniture\n",
    "        self.rooms=rooms\n",
    "class Appliances:\n",
    "    def __init__(self,appliance):\n",
    "        self.appliance=appliance\n",
    "class Furniture:\n",
    "    def __init__(self,furniture):\n",
    "        self.furniture=furniture\n",
    "class rooms:\n",
    "    def __init__(self,rooms):\n",
    "        self.rooms=rooms\n",
    "a=Appliances('freeje')\n",
    "f=Furniture('table')\n",
    "r=rooms('bedroom')\n",
    "h=House(a,f,r)\n",
    "print(h.appliances.appliance)\n",
    "print(h.furniture.furniture)\n",
    "print(h.rooms.rooms)"
   ]
  },
  {
   "cell_type": "code",
   "execution_count": 43,
   "id": "ae3caa40",
   "metadata": {},
   "outputs": [
    {
     "data": {
      "text/plain": [
       "'1.Strategy pattern\\n2.dependecy injection\\n3.factory method\\n4.service locator pattern\\n5.inversion of control container\\n6.dynamic object replacement'"
      ]
     },
     "execution_count": 43,
     "metadata": {},
     "output_type": "execute_result"
    }
   ],
   "source": [
    "#19.To achieve flexibilit in composed objects and allow them to be replaced or modified dynamically at runtime, you can \n",
    "#implement the following  design patterns and techniques\n",
    "'''1.Strategy pattern\n",
    "2.dependecy injection\n",
    "3.factory method\n",
    "4.service locator pattern\n",
    "5.inversion of control container\n",
    "6.dynamic object replacement'''\n"
   ]
  },
  {
   "cell_type": "code",
   "execution_count": 44,
   "id": "9d12ee83",
   "metadata": {},
   "outputs": [
    {
     "name": "stdout",
     "output_type": "stream",
     "text": [
      "['vikas123']\n",
      "['song']\n",
      "['good']\n"
     ]
    }
   ],
   "source": [
    "#20.Create a Python class for a social media application, using composition to represent users, posts, and comments\n",
    "class SocialMedia:\n",
    "    def __init__(self,users,posts,comments):\n",
    "        self.users=users\n",
    "        self.posts=posts\n",
    "        self.comments=comments\n",
    "class Users:\n",
    "    def __init__(self,users):\n",
    "        self.user=[]\n",
    "        self.user.append(users)\n",
    "class Posts:\n",
    "    def __init__(self,posts):\n",
    "        self.posts=[]\n",
    "        self.posts.append(posts)\n",
    "class Comments:\n",
    "    def __init__(self,comments):\n",
    "        self.comments=[]\n",
    "        self.comments.append(comments)\n",
    "\n",
    "u=Users('vikas123')\n",
    "p=Posts('song')\n",
    "c=Comments('good')\n",
    "s=SocialMedia(u,p,c)\n",
    "print(s.users.user)\n",
    "print(s.posts.posts)\n",
    "print(s.comments.comments)"
   ]
  },
  {
   "cell_type": "code",
   "execution_count": null,
   "id": "fcedcb81",
   "metadata": {},
   "outputs": [],
   "source": []
  }
 ],
 "metadata": {
  "kernelspec": {
   "display_name": "Python 3 (ipykernel)",
   "language": "python",
   "name": "python3"
  },
  "language_info": {
   "codemirror_mode": {
    "name": "ipython",
    "version": 3
   },
   "file_extension": ".py",
   "mimetype": "text/x-python",
   "name": "python",
   "nbconvert_exporter": "python",
   "pygments_lexer": "ipython3",
   "version": "3.11.4"
  }
 },
 "nbformat": 4,
 "nbformat_minor": 5
}
